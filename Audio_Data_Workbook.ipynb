{
 "cells": [
  {
   "cell_type": "code",
   "execution_count": 1,
   "id": "5d5dc009",
   "metadata": {},
   "outputs": [],
   "source": [
    "# Dependencies and Setup\n",
    "import matplotlib.pyplot as plt\n",
    "import pandas as pd\n",
    "import numpy as np\n",
    "import requests\n",
    "import time\n",
    "from pprint import pprint"
   ]
  },
  {
   "cell_type": "code",
   "execution_count": 2,
   "id": "0441862c",
   "metadata": {},
   "outputs": [],
   "source": [
    "import json"
   ]
  },
  {
   "cell_type": "code",
   "execution_count": 16,
   "id": "74530f44",
   "metadata": {},
   "outputs": [],
   "source": [
    "# Import API key\n",
    "# from api_keys import audio_api"
   ]
  },
  {
   "cell_type": "code",
   "execution_count": 17,
   "id": "80609c0c",
   "metadata": {},
   "outputs": [],
   "source": [
    "#create an empty list to populate with artist names\n",
    "artist_names=[]"
   ]
  },
  {
   "cell_type": "code",
   "execution_count": 18,
   "id": "1372e763",
   "metadata": {},
   "outputs": [],
   "source": [
    "#generate random numbers in the range of available artist IDs\n",
    "#used to populate artist_names list\n",
    "random_nums = np.random.randint(low=100000, high=300000, size=20)\n",
    "#print(ran_ids)\n",
    "\n",
    "#test \n",
    "#random_nums = [112024, 0, 100000, 114364]"
   ]
  },
  {
   "cell_type": "code",
   "execution_count": 19,
   "id": "d4856218",
   "metadata": {},
   "outputs": [
    {
     "name": "stdout",
     "output_type": "stream",
     "text": [
      "['Moritz Von Oswald Trio']\n",
      "['Moritz Von Oswald Trio', 'Nina Hagen Band']\n",
      "['Moritz Von Oswald Trio', 'Nina Hagen Band', 'GTA']\n",
      "['Moritz Von Oswald Trio', 'Nina Hagen Band', 'GTA', 'Theme Park']\n",
      "['Moritz Von Oswald Trio', 'Nina Hagen Band', 'GTA', 'Theme Park', 'Dark Fortress']\n",
      "['Moritz Von Oswald Trio', 'Nina Hagen Band', 'GTA', 'Theme Park', 'Dark Fortress', 'Celeste Buckingham']\n",
      "['Moritz Von Oswald Trio', 'Nina Hagen Band', 'GTA', 'Theme Park', 'Dark Fortress', 'Celeste Buckingham', 'Philippe Courbois']\n"
     ]
    }
   ],
   "source": [
    "#create a base url\n",
    "#example: https://theaudiodb.com/api/v1/json/1/artist.php?i=112024\n",
    "id_url = \"https://theaudiodb.com/api/v1/json/1/artist.php?i=\"\n",
    "\n",
    "#create a loop that uses random number\n",
    "for num in random_nums:\n",
    "    unique_url = id_url + f'{num}'\n",
    "    \n",
    "    #call api url\n",
    "    request = requests.get(unique_url)\n",
    "    \n",
    "    #for each attempt try to convert information to json\n",
    "    try:\n",
    "        #convert to json\n",
    "        info = request.json()\n",
    "    \n",
    "    #exception json decode error\n",
    "    #https://docs.python.org/3/tutorial/controlflow.html\n",
    "    except json.JSONDecodeError:\n",
    "        #end this iteration and continue new iteration of for loop\n",
    "        continue\n",
    "    \n",
    "    #if json conversion successful then\n",
    "    #try to create a variable for single artist to reference later\n",
    "    try:\n",
    "        artist = info['artists'][0]['strArtist']\n",
    "        \n",
    "    #TypeError exception if url responds with {'artists': None}\n",
    "    except (TypeError):\n",
    "        continue\n",
    "        \n",
    "    #if the artist is not already in the list then \n",
    "    if artist not in artist_names:\n",
    "        \n",
    "        #populate artist_names list using info(json)\n",
    "        #response-> {'artists': [{'idArtist': '114364', 'strArtist': 'Beyoncé', ...\n",
    "        #dictionary{'artists':['{dictionary}']}\n",
    "        artist_names.append(info['artists'][0]['strArtist'])\n",
    "    \n",
    "    print(artist_names)"
   ]
  },
  {
   "cell_type": "code",
   "execution_count": 20,
   "id": "b08c3948",
   "metadata": {},
   "outputs": [],
   "source": [
    "#alternative to \"if not in list then .append\"\n",
    "#convert list to set to remove redundant artists\n",
    "\n",
    "#unique_artist_ids = set(artist_ids)\n",
    "#print(unique_artist_ids)\n"
   ]
  },
  {
   "cell_type": "code",
   "execution_count": 21,
   "id": "c8f43501",
   "metadata": {},
   "outputs": [],
   "source": [
    "#create loop to pull information from the database\n",
    "\n",
    "#example url: http://theaudiodb.com/api/v1/json/1/search.php?s=coldplay\n",
    "\n",
    "audio_data = {'artist':[],\n",
    "              'style':[], \n",
    "              'genre':[]\n",
    "             }\n",
    "\n",
    "#loop over artists dictionary and add data to dictionary\n",
    "for artist in artist_names:\n",
    "    base_url = \"http://theaudiodb.com/api/v1/json/1/search.php?s=\"\n",
    "            #\"http://theaudiodb.com/api/v1/json/1/search.php?s=\"\n",
    "    try:\n",
    "        req = requests.get(base_url + f'{artist}')\n",
    "        data = req.json()\n",
    "        #url = urllib3.urlopen(base_url + f'{artist}')\n",
    "        #data = json.load(url)\n",
    "        \n",
    "        for item in data['artists']:\n",
    "        #add values to dictionary\n",
    "            #print([\"strArtist\"])\n",
    "            #print([\"strStyle\"])\n",
    "            #print([\"strGenre\"])\n",
    "        \n",
    "            audio_data['artist'].append(item[\"strArtist\"])\n",
    "            audio_data['style'].append(item[\"strStyle\"])\n",
    "            audio_data['genre'].append(item[\"strGenre\"])\n",
    "            \n",
    "            #audio_data['artist'].append(item[\"artists\"][\"strArtist\"])\n",
    "            #audio_data['style'].append(item[\"artists\"][\"strStyle\"])\n",
    "            #audio_data['genre'].append(item[\"artists\"][\"strGenre\"])\n",
    "        \n",
    "        #print(base_url + f'{artist}')\n",
    "        \n",
    "    except:\n",
    "        pass"
   ]
  },
  {
   "cell_type": "code",
   "execution_count": 22,
   "id": "f63c80b1",
   "metadata": {},
   "outputs": [
    {
     "name": "stdout",
     "output_type": "stream",
     "text": [
      "{'artist': ['Moritz Von Oswald Trio', 'Nina Hagen Band', 'GTA', 'Theme Park', 'Dark Fortress', 'Celeste Buckingham', 'Philippe Courbois'], 'style': ['', 'Rock/Pop', '', '', 'Metal', '', None], 'genre': ['', 'Hard Rock', 'House', 'Indie', 'Black Metal', 'Pop', '']}\n"
     ]
    }
   ],
   "source": [
    "print(audio_data)"
   ]
  },
  {
   "cell_type": "code",
   "execution_count": 23,
   "id": "f1bb8667",
   "metadata": {},
   "outputs": [
    {
     "name": "stdout",
     "output_type": "stream",
     "text": [
      "                   artist     style        genre\n",
      "0  Moritz Von Oswald Trio                       \n",
      "1         Nina Hagen Band  Rock/Pop    Hard Rock\n",
      "2                     GTA                  House\n",
      "3              Theme Park                  Indie\n",
      "4           Dark Fortress     Metal  Black Metal\n",
      "5      Celeste Buckingham                    Pop\n",
      "6       Philippe Courbois      None             \n"
     ]
    }
   ],
   "source": [
    "audio_df = pd.DataFrame(audio_data)\n",
    "print(audio_df)"
   ]
  },
  {
   "cell_type": "code",
   "execution_count": 24,
   "id": "491fd062",
   "metadata": {},
   "outputs": [],
   "source": [
    "# https://www.youtube.com/watch?v=pxofwuWTs7c\n",
    "# this turorital has been helpful"
   ]
  },
  {
   "cell_type": "code",
   "execution_count": 25,
   "id": "3efc3df0",
   "metadata": {},
   "outputs": [],
   "source": [
    "#possible questions\n",
    "#location and genre\n",
    "#year formed and genre\n",
    "\n",
    "#pull artist, location, year formed, genre\n"
   ]
  },
  {
   "cell_type": "code",
   "execution_count": null,
   "id": "f95143ab",
   "metadata": {},
   "outputs": [],
   "source": []
  }
 ],
 "metadata": {
  "kernelspec": {
   "display_name": "Python 3 (ipykernel)",
   "language": "python",
   "name": "python3"
  },
  "language_info": {
   "codemirror_mode": {
    "name": "ipython",
    "version": 3
   },
   "file_extension": ".py",
   "mimetype": "text/x-python",
   "name": "python",
   "nbconvert_exporter": "python",
   "pygments_lexer": "ipython3",
   "version": "3.9.7"
  }
 },
 "nbformat": 4,
 "nbformat_minor": 5
}
