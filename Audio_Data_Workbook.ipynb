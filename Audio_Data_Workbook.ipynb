{
 "cells": [
  {
   "cell_type": "code",
   "execution_count": 1,
   "id": "5d5dc009",
   "metadata": {},
   "outputs": [],
   "source": [
    "# Dependencies and Setup\n",
    "import matplotlib.pyplot as plt\n",
    "import pandas as pd\n",
    "import numpy as np\n",
    "import requests\n",
    "import time\n",
    "from pprint import pprint"
   ]
  },
  {
   "cell_type": "code",
   "execution_count": 19,
   "id": "74530f44",
   "metadata": {},
   "outputs": [],
   "source": [
    "# Import API key\n",
    "from api_keys import audio_api"
   ]
  },
  {
   "cell_type": "code",
   "execution_count": 40,
   "id": "fff203b4",
   "metadata": {},
   "outputs": [],
   "source": [
    "artists = [\"coldplay\"]"
   ]
  },
  {
   "cell_type": "code",
   "execution_count": 46,
   "id": "c8f43501",
   "metadata": {},
   "outputs": [],
   "source": [
    "# EXAMPLE theaudiodb.com/api/v1/json/1/search.php?s=coldplay\n",
    "\n",
    "audio_data = {'artist':[],\n",
    "              'style':[], \n",
    "              'genre':[]\n",
    "             }\n",
    "\n",
    "#loop over artists dictionary and add data to dictionary\n",
    "for artist in artists:\n",
    "    base_url = \"http://theaudiodb.com/api/v1/json/\"+str(audio_api)+\"/search.php?s=\"\n",
    "\n",
    "    try:\n",
    "        req = requests.get(base_url + f'{artist}')\n",
    "        data = req.json()\n",
    "        \n",
    "        #add values to dictionary\n",
    "        audio_data['artist'].append(data[\"artists\"][\"strArtist\"])\n",
    "        audio_data['style'].append(data[\"artists\"][\"strStyle\"])\n",
    "        audio_data['genre'].append(data[\"artists\"][\"strGenre\"])\n",
    "        \n",
    "        print(base_url + f'{artist}')\n",
    "        \n",
    "    except:\n",
    "        pass"
   ]
  },
  {
   "cell_type": "code",
   "execution_count": 47,
   "id": "f63c80b1",
   "metadata": {},
   "outputs": [
    {
     "name": "stdout",
     "output_type": "stream",
     "text": [
      "{'artist': [], 'style': [], 'genre': []}\n"
     ]
    }
   ],
   "source": [
    "print(audio_data)"
   ]
  },
  {
   "cell_type": "code",
   "execution_count": 49,
   "id": "51cda79c",
   "metadata": {},
   "outputs": [],
   "source": [
    "#print(base_url)"
   ]
  },
  {
   "cell_type": "code",
   "execution_count": 45,
   "id": "8b43ec5d",
   "metadata": {},
   "outputs": [],
   "source": [
    "#print(audio_api)"
   ]
  },
  {
   "cell_type": "code",
   "execution_count": null,
   "id": "491fd062",
   "metadata": {},
   "outputs": [],
   "source": []
  }
 ],
 "metadata": {
  "kernelspec": {
   "display_name": "Python 3 (ipykernel)",
   "language": "python",
   "name": "python3"
  },
  "language_info": {
   "codemirror_mode": {
    "name": "ipython",
    "version": 3
   },
   "file_extension": ".py",
   "mimetype": "text/x-python",
   "name": "python",
   "nbconvert_exporter": "python",
   "pygments_lexer": "ipython3",
   "version": "3.9.7"
  }
 },
 "nbformat": 4,
 "nbformat_minor": 5
}
