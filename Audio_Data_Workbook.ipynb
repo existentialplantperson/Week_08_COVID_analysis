{
 "cells": [
  {
   "cell_type": "code",
   "execution_count": 1,
   "id": "5d5dc009",
   "metadata": {},
   "outputs": [],
   "source": [
    "# Dependencies and Setup\n",
    "import matplotlib.pyplot as plt\n",
    "import pandas as pd\n",
    "import numpy as np\n",
    "import requests\n",
    "import time\n",
    "from pprint import pprint"
   ]
  },
  {
   "cell_type": "code",
   "execution_count": 2,
   "id": "0441862c",
   "metadata": {},
   "outputs": [],
   "source": [
    "import json"
   ]
  },
  {
   "cell_type": "code",
   "execution_count": 3,
   "id": "74530f44",
   "metadata": {},
   "outputs": [],
   "source": [
    "# Import API key\n",
    "from api_keys import audio_api"
   ]
  },
  {
   "cell_type": "code",
   "execution_count": 4,
   "id": "fff203b4",
   "metadata": {},
   "outputs": [],
   "source": [
    "artists = []"
   ]
  },
  {
   "cell_type": "code",
   "execution_count": 5,
   "id": "17c215c6",
   "metadata": {},
   "outputs": [],
   "source": [
    "artist_names=[]"
   ]
  },
  {
   "cell_type": "code",
   "execution_count": 23,
   "id": "fe8c9752",
   "metadata": {},
   "outputs": [
    {
     "name": "stdout",
     "output_type": "stream",
     "text": [
      "[153217 142468 406746 412100 294451 156382 428430 227019 224482 203641\n",
      " 365340 210788 219634 121746 142325 332437 395108 308507 124392 402990]\n"
     ]
    }
   ],
   "source": [
    "ran_ids = np.random.randint(low=100000, high=500000, size=20)\n",
    "print(ran_ids)\n",
    "\n",
    "#ran_ids = [112024, 0, 100000, 114364]"
   ]
  },
  {
   "cell_type": "code",
   "execution_count": 24,
   "id": "d4856218",
   "metadata": {},
   "outputs": [
    {
     "name": "stdout",
     "output_type": "stream",
     "text": [
      "['Vox Luminis', 'Drowning Pool', 'Orchestre philharmonique de Radio France', 'Dimness Through Infinity', 'Lisa Crawley', 'Otis Rush', 'Amely Suncroll']\n",
      "['Vox Luminis', 'Drowning Pool', 'Orchestre philharmonique de Radio France', 'Dimness Through Infinity', 'Lisa Crawley', 'Otis Rush', 'Amely Suncroll', 'B-Movie']\n",
      "['Vox Luminis', 'Drowning Pool', 'Orchestre philharmonique de Radio France', 'Dimness Through Infinity', 'Lisa Crawley', 'Otis Rush', 'Amely Suncroll', 'B-Movie', 'Solar Project']\n",
      "['Vox Luminis', 'Drowning Pool', 'Orchestre philharmonique de Radio France', 'Dimness Through Infinity', 'Lisa Crawley', 'Otis Rush', 'Amely Suncroll', 'B-Movie', 'Solar Project', 'Koritni']\n",
      "['Vox Luminis', 'Drowning Pool', 'Orchestre philharmonique de Radio France', 'Dimness Through Infinity', 'Lisa Crawley', 'Otis Rush', 'Amely Suncroll', 'B-Movie', 'Solar Project', 'Koritni', 'Les 3 mousquetaires']\n",
      "['Vox Luminis', 'Drowning Pool', 'Orchestre philharmonique de Radio France', 'Dimness Through Infinity', 'Lisa Crawley', 'Otis Rush', 'Amely Suncroll', 'B-Movie', 'Solar Project', 'Koritni', 'Les 3 mousquetaires', 'Easton Corbin']\n"
     ]
    }
   ],
   "source": [
    "# https://theaudiodb.com/api/v1/json/1/artist.php?i=112024\n",
    "id_url = \"https://theaudiodb.com/api/v1/json/1/artist.php?i=\"\n",
    "\n",
    "#create a loop that uses random number\n",
    "for num in ran_ids:\n",
    "    unique_url = id_url + f'{num}'\n",
    "    \n",
    "    #call api url\n",
    "    request = requests.get(unique_url)\n",
    "    \n",
    "    try:\n",
    "        #convert to json\n",
    "        info = request.json()\n",
    "    \n",
    "    #exception json decode error\n",
    "    #https://docs.python.org/3/tutorial/controlflow.html\n",
    "    except json.JSONDecodeError:\n",
    "        #end this iteration and continue new iteration of for loop\n",
    "        continue\n",
    "        \n",
    "    try:\n",
    "        #create a variable for single artist to reference later\n",
    "        artist = info['artists'][0]['strArtist']\n",
    "        \n",
    "    #is url responds with {'artists': None}\n",
    "    except (TypeError):\n",
    "        continue\n",
    "        \n",
    "    if artist not in artist_names:\n",
    "        \n",
    "        #populate artists_ids list using info(json)\n",
    "        #{'artists': [{'idArtist': '114364', 'strArtist': 'Beyoncé', ...\n",
    "        #dictionary{'artists':['{dictionary}']}\n",
    "        artist_names.append(info['artists'][0]['strArtist'])\n",
    "    \n",
    "\n",
    "    \n",
    "    print(artist_names)"
   ]
  },
  {
   "cell_type": "code",
   "execution_count": null,
   "id": "72a2c20c",
   "metadata": {},
   "outputs": [],
   "source": [
    "#convert list to set to remove redundant artists\n",
    "#alternative is \"if not in then .append\"\n",
    "unique_artist_ids = set(artist_ids)\n",
    "print(unique_artist_ids)\n"
   ]
  },
  {
   "cell_type": "code",
   "execution_count": null,
   "id": "241bc842",
   "metadata": {},
   "outputs": [],
   "source": [
    "print(id_url)"
   ]
  },
  {
   "cell_type": "code",
   "execution_count": null,
   "id": "77a88ecc",
   "metadata": {},
   "outputs": [],
   "source": [
    "# TEST LOOP TO ADD ARTISTS \n",
    "\n",
    "audio_data = {'artist':[],\n",
    "              'style':[], \n",
    "              'genre':[]\n",
    "             }\n",
    "\n",
    "#loop over artists dictionary and add data to dictionary\n",
    "for artist in artists:\n",
    "    base_url = \"http://theaudiodb.com/api/v1/json/1/search.php?s=\"\n",
    "            #\"http://theaudiodb.com/api/v1/json/1/search.php?s=\"\n",
    "    try:\n",
    "        req = requests.get(base_url + f'{artist}')\n",
    "        data = req.json()\n",
    "        #json_str = json.dumps(data)\n",
    "        json_obj = json.load(json_str)\n",
    "        \n",
    "        for item in json_object:\n",
    "            audio_data.append(json_obj['artist'][\"strArtist\"])\n",
    "\n",
    "                       \n",
    "                       #print(\"The key and value are ({}) = ({})\".format(key, value))\n",
    "            \n",
    "            #artists.append([\"strArtist\"])\n",
    "        \n",
    "        #for item in data['artists']:   \n",
    "            #audio_data['artist'].append(item[\"strArtist\"])\n",
    "            #audio_data['style'].append(item[\"strStyle\"])\n",
    "            #audio_data['genre'].append(item[\"strGenre\"])\n",
    "            \n",
    "        \n",
    "        #print(base_url + f'{artist}')\n",
    "        \n",
    "    except:\n",
    "        pass"
   ]
  },
  {
   "cell_type": "code",
   "execution_count": null,
   "id": "65973a38",
   "metadata": {},
   "outputs": [],
   "source": [
    "print(artists)"
   ]
  },
  {
   "cell_type": "code",
   "execution_count": null,
   "id": "74e674d2",
   "metadata": {},
   "outputs": [],
   "source": [
    "json_obj = json.dumps(data)\n",
    "type(data)"
   ]
  },
  {
   "cell_type": "code",
   "execution_count": null,
   "id": "08597053",
   "metadata": {},
   "outputs": [],
   "source": []
  },
  {
   "cell_type": "code",
   "execution_count": null,
   "id": "c8f43501",
   "metadata": {},
   "outputs": [],
   "source": [
    "###THIS ONE IS WORKING\n",
    "\n",
    "# EXAMPLE theaudiodb.com/api/v1/json/1/search.php?s=coldplay\n",
    "\n",
    "audio_data = {'artist':[],\n",
    "              'style':[], \n",
    "              'genre':[]\n",
    "             }\n",
    "\n",
    "#loop over artists dictionary and add data to dictionary\n",
    "for artist in artists:\n",
    "    base_url = \"http://theaudiodb.com/api/v1/json/1/search.php?s=\"\n",
    "            #\"http://theaudiodb.com/api/v1/json/1/search.php?s=\"\n",
    "    try:\n",
    "        req = requests.get(base_url + f'{artist}')\n",
    "        data = req.json()\n",
    "        #url = urllib3.urlopen(base_url + f'{artist}')\n",
    "        #data = json.load(url)\n",
    "        \n",
    "        for item in data['artists']:\n",
    "        #add values to dictionary\n",
    "            #print([\"strArtist\"])\n",
    "            #print([\"strStyle\"])\n",
    "            #print([\"strGenre\"])\n",
    "        \n",
    "            audio_data['artist'].append(item[\"strArtist\"])\n",
    "            audio_data['style'].append(item[\"strStyle\"])\n",
    "            audio_data['genre'].append(item[\"strGenre\"])\n",
    "            \n",
    "            #audio_data['artist'].append(item[\"artists\"][\"strArtist\"])\n",
    "            #audio_data['style'].append(item[\"artists\"][\"strStyle\"])\n",
    "            #audio_data['genre'].append(item[\"artists\"][\"strGenre\"])\n",
    "        \n",
    "        #print(base_url + f'{artist}')\n",
    "        \n",
    "    except:\n",
    "        pass"
   ]
  },
  {
   "cell_type": "code",
   "execution_count": null,
   "id": "f63c80b1",
   "metadata": {},
   "outputs": [],
   "source": [
    "print(audio_data)"
   ]
  },
  {
   "cell_type": "code",
   "execution_count": null,
   "id": "f1bb8667",
   "metadata": {},
   "outputs": [],
   "source": [
    "audio_df = pd.DataFrame(audio_data)\n",
    "print(audio_df)"
   ]
  },
  {
   "cell_type": "code",
   "execution_count": null,
   "id": "02576464",
   "metadata": {},
   "outputs": [],
   "source": [
    "#base_url = \"http://theaudiodb.com/api/v1/json/\"+str(audio_api)+\"/search.php?s=\"\n",
    "#url = urllib3.urlopen(base_url + f'{artist}')\n",
    "#data = json.load(url)\n",
    "\n",
    "#for item in data['artists']:\n",
    "#    print(item['strArtist'])"
   ]
  },
  {
   "cell_type": "code",
   "execution_count": null,
   "id": "51cda79c",
   "metadata": {},
   "outputs": [],
   "source": [
    "print(base_url)"
   ]
  },
  {
   "cell_type": "code",
   "execution_count": null,
   "id": "8b43ec5d",
   "metadata": {},
   "outputs": [],
   "source": [
    "#print(audio_api)"
   ]
  },
  {
   "cell_type": "code",
   "execution_count": null,
   "id": "491fd062",
   "metadata": {},
   "outputs": [],
   "source": [
    "# https://www.youtube.com/watch?v=pxofwuWTs7c\n",
    "# this turorital has been helpful"
   ]
  },
  {
   "cell_type": "code",
   "execution_count": null,
   "id": "3efc3df0",
   "metadata": {},
   "outputs": [],
   "source": [
    "#possible questions\n",
    "#location and genre\n",
    "#year formed and genre\n",
    "\n",
    "#pull artist, location, year formed, genre\n"
   ]
  },
  {
   "cell_type": "code",
   "execution_count": null,
   "id": "4eb91b41",
   "metadata": {},
   "outputs": [],
   "source": [
    "case_list = {}\n",
    "for entry in data:\n",
    "    if key in case_list:\n",
    "        case_list[key1].append(value)\n",
    "    else:\n",
    "        case_list[key1] = [value]"
   ]
  },
  {
   "cell_type": "code",
   "execution_count": null,
   "id": "666ac3bf",
   "metadata": {},
   "outputs": [],
   "source": [
    "# some JSON:\n",
    "x =  '{ \"name\":\"John\", \"age\":30, \"city\":\"New York\"}'\n",
    "\n",
    "# parse x:\n",
    "y = json.dump(data)\n",
    "\n",
    "# the result is a Python dictionary:\n",
    "print(y)"
   ]
  },
  {
   "cell_type": "code",
   "execution_count": null,
   "id": "b0f4aa28",
   "metadata": {},
   "outputs": [],
   "source": [
    "for key, value in data.items():\n",
    "    print(key, value)"
   ]
  },
  {
   "cell_type": "code",
   "execution_count": null,
   "id": "a3e0ba24",
   "metadata": {},
   "outputs": [],
   "source": [
    "for item in data['artists']:\n",
    "    audio_data['artist'].append(item[\"strArtist\"])"
   ]
  },
  {
   "cell_type": "code",
   "execution_count": null,
   "id": "329bfbb8",
   "metadata": {},
   "outputs": [],
   "source": [
    "print(audio_data)"
   ]
  },
  {
   "cell_type": "raw",
   "id": "a6fb017c",
   "metadata": {},
   "source": [
    "numpy seed number, random number generator\n",
    "np.randomseed()"
   ]
  }
 ],
 "metadata": {
  "kernelspec": {
   "display_name": "Python 3 (ipykernel)",
   "language": "python",
   "name": "python3"
  },
  "language_info": {
   "codemirror_mode": {
    "name": "ipython",
    "version": 3
   },
   "file_extension": ".py",
   "mimetype": "text/x-python",
   "name": "python",
   "nbconvert_exporter": "python",
   "pygments_lexer": "ipython3",
   "version": "3.9.7"
  }
 },
 "nbformat": 4,
 "nbformat_minor": 5
}
