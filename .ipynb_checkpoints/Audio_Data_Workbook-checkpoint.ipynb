{
 "cells": [
  {
   "cell_type": "code",
   "execution_count": 22,
   "id": "5d5dc009",
   "metadata": {},
   "outputs": [],
   "source": [
    "# Dependencies and Setup\n",
    "import matplotlib.pyplot as plt\n",
    "import pandas as pd\n",
    "import numpy as np\n",
    "import requests\n",
    "import time\n",
    "from pprint import pprint"
   ]
  },
  {
   "cell_type": "code",
   "execution_count": 32,
   "id": "0441862c",
   "metadata": {},
   "outputs": [],
   "source": [
    "import json\n",
    "import urllib3"
   ]
  },
  {
   "cell_type": "code",
   "execution_count": 33,
   "id": "74530f44",
   "metadata": {},
   "outputs": [],
   "source": [
    "# Import API key\n",
    "from api_keys import audio_api"
   ]
  },
  {
   "cell_type": "code",
   "execution_count": 94,
   "id": "fff203b4",
   "metadata": {},
   "outputs": [],
   "source": [
    "artists = []\n"
   ]
  },
  {
   "cell_type": "code",
   "execution_count": 113,
   "id": "f4ea0e00",
   "metadata": {},
   "outputs": [
    {
     "data": {
      "text/html": [
       "<div>\n",
       "<style scoped>\n",
       "    .dataframe tbody tr th:only-of-type {\n",
       "        vertical-align: middle;\n",
       "    }\n",
       "\n",
       "    .dataframe tbody tr th {\n",
       "        vertical-align: top;\n",
       "    }\n",
       "\n",
       "    .dataframe thead th {\n",
       "        text-align: right;\n",
       "    }\n",
       "</style>\n",
       "<table border=\"1\" class=\"dataframe\">\n",
       "  <thead>\n",
       "    <tr style=\"text-align: right;\">\n",
       "      <th></th>\n",
       "      <th>artists</th>\n",
       "    </tr>\n",
       "  </thead>\n",
       "  <tbody>\n",
       "    <tr>\n",
       "      <th>0</th>\n",
       "      <td>{'idArtist': '111239', 'strArtist': 'Coldplay'...</td>\n",
       "    </tr>\n",
       "  </tbody>\n",
       "</table>\n",
       "</div>"
      ],
      "text/plain": [
       "                                             artists\n",
       "0  {'idArtist': '111239', 'strArtist': 'Coldplay'..."
      ]
     },
     "execution_count": 113,
     "metadata": {},
     "output_type": "execute_result"
    }
   ],
   "source": [
    "pd.read_json(\"http://theaudiodb.com/api/v1/json/1/search.php?s=coldplay\").head()"
   ]
  },
  {
   "cell_type": "code",
   "execution_count": 116,
   "id": "d4856218",
   "metadata": {},
   "outputs": [
    {
     "ename": "OSError",
     "evalue": "[Errno 22] Invalid argument: 'http://theaudiodb.com/api/v1/json/1/search.php?s=coldplay'",
     "output_type": "error",
     "traceback": [
      "\u001b[1;31m---------------------------------------------------------------------------\u001b[0m",
      "\u001b[1;31mOSError\u001b[0m                                   Traceback (most recent call last)",
      "\u001b[1;32m~\\AppData\\Local\\Temp/ipykernel_11980/4001494512.py\u001b[0m in \u001b[0;36m<module>\u001b[1;34m\u001b[0m\n\u001b[1;32m----> 1\u001b[1;33m \u001b[1;32mwith\u001b[0m \u001b[0mopen\u001b[0m\u001b[1;33m(\u001b[0m\u001b[1;34m\"http://theaudiodb.com/api/v1/json/1/search.php?s=coldplay\"\u001b[0m\u001b[1;33m)\u001b[0m \u001b[1;32mas\u001b[0m \u001b[0mdatafile\u001b[0m\u001b[1;33m:\u001b[0m\u001b[1;33m\u001b[0m\u001b[1;33m\u001b[0m\u001b[0m\n\u001b[0m\u001b[0;32m      2\u001b[0m     \u001b[1;32mfor\u001b[0m \u001b[0mline\u001b[0m \u001b[1;32min\u001b[0m \u001b[0mdatafile\u001b[0m\u001b[1;33m:\u001b[0m\u001b[1;33m\u001b[0m\u001b[1;33m\u001b[0m\u001b[0m\n\u001b[0;32m      3\u001b[0m         \u001b[0mdata\u001b[0m \u001b[1;33m=\u001b[0m \u001b[0mjson\u001b[0m\u001b[1;33m.\u001b[0m\u001b[0mloads\u001b[0m\u001b[1;33m(\u001b[0m\u001b[0mline\u001b[0m\u001b[1;33m)\u001b[0m\u001b[1;33m\u001b[0m\u001b[1;33m\u001b[0m\u001b[0m\n\u001b[0;32m      4\u001b[0m     \u001b[0mww\u001b[0m \u001b[1;33m=\u001b[0m \u001b[0mpd\u001b[0m\u001b[1;33m.\u001b[0m\u001b[0mDataFrame\u001b[0m\u001b[1;33m(\u001b[0m\u001b[0mdata\u001b[0m\u001b[1;33m)\u001b[0m\u001b[1;33m\u001b[0m\u001b[1;33m\u001b[0m\u001b[0m\n\u001b[0;32m      5\u001b[0m \u001b[0mww\u001b[0m\u001b[1;33m.\u001b[0m\u001b[0mhead\u001b[0m\u001b[1;33m(\u001b[0m\u001b[1;33m)\u001b[0m\u001b[1;33m\u001b[0m\u001b[1;33m\u001b[0m\u001b[0m\n",
      "\u001b[1;31mOSError\u001b[0m: [Errno 22] Invalid argument: 'http://theaudiodb.com/api/v1/json/1/search.php?s=coldplay'"
     ]
    }
   ],
   "source": [
    "with open(\"http://theaudiodb.com/api/v1/json/1/search.php?s=coldplay\") as datafile:\n",
    "    for line in datafile:\n",
    "        data = json.loads(line)\n",
    "    ww = pd.DataFrame(data)\n",
    "ww.head()"
   ]
  },
  {
   "cell_type": "code",
   "execution_count": 109,
   "id": "77a88ecc",
   "metadata": {},
   "outputs": [],
   "source": [
    "# TEST LOOP TO ADD ARTISTS \n",
    "\n",
    "audio_data = {'artist':[],\n",
    "              'style':[], \n",
    "              'genre':[]\n",
    "             }\n",
    "\n",
    "#loop over artists dictionary and add data to dictionary\n",
    "for artist in artists:\n",
    "    base_url = \"http://theaudiodb.com/api/v1/json/1/search.php?s=\"\n",
    "            #\"http://theaudiodb.com/api/v1/json/1/search.php?s=\"\n",
    "    try:\n",
    "        req = requests.get(base_url + f'{artist}')\n",
    "        data = req.json()\n",
    "        #json_str = json.dumps(data)\n",
    "        json_obj = json.load(json_str)\n",
    "        \n",
    "        for item in json_object:\n",
    "            audio_data.append(json_obj['artist'][\"strArtist\"])\n",
    "\n",
    "                       \n",
    "                       #print(\"The key and value are ({}) = ({})\".format(key, value))\n",
    "            \n",
    "            #artists.append([\"strArtist\"])\n",
    "        \n",
    "        #for item in data['artists']:   \n",
    "            #audio_data['artist'].append(item[\"strArtist\"])\n",
    "            #audio_data['style'].append(item[\"strStyle\"])\n",
    "            #audio_data['genre'].append(item[\"strGenre\"])\n",
    "            \n",
    "        \n",
    "        #print(base_url + f'{artist}')\n",
    "        \n",
    "    except:\n",
    "        pass"
   ]
  },
  {
   "cell_type": "code",
   "execution_count": 110,
   "id": "65973a38",
   "metadata": {},
   "outputs": [
    {
     "name": "stdout",
     "output_type": "stream",
     "text": [
      "[]\n"
     ]
    }
   ],
   "source": [
    "print(artists)"
   ]
  },
  {
   "cell_type": "code",
   "execution_count": 111,
   "id": "74e674d2",
   "metadata": {},
   "outputs": [
    {
     "data": {
      "text/plain": [
       "dict"
      ]
     },
     "execution_count": 111,
     "metadata": {},
     "output_type": "execute_result"
    }
   ],
   "source": [
    "json_obj = json.dumps(data)\n",
    "type(data)"
   ]
  },
  {
   "cell_type": "code",
   "execution_count": null,
   "id": "08597053",
   "metadata": {},
   "outputs": [],
   "source": []
  },
  {
   "cell_type": "code",
   "execution_count": 83,
   "id": "c8f43501",
   "metadata": {},
   "outputs": [],
   "source": [
    "###THIS ONE IS WORKING\n",
    "\n",
    "# EXAMPLE theaudiodb.com/api/v1/json/1/search.php?s=coldplay\n",
    "\n",
    "audio_data = {'artist':[],\n",
    "              'style':[], \n",
    "              'genre':[]\n",
    "             }\n",
    "\n",
    "#loop over artists dictionary and add data to dictionary\n",
    "for artist in artists:\n",
    "    base_url = \"http://theaudiodb.com/api/v1/json/1/search.php?s=\"\n",
    "            #\"http://theaudiodb.com/api/v1/json/1/search.php?s=\"\n",
    "    try:\n",
    "        req = requests.get(base_url + f'{artist}')\n",
    "        data = req.json()\n",
    "        #url = urllib3.urlopen(base_url + f'{artist}')\n",
    "        #data = json.load(url)\n",
    "        \n",
    "        for item in data['artists']:\n",
    "        #add values to dictionary\n",
    "            #print([\"strArtist\"])\n",
    "            #print([\"strStyle\"])\n",
    "            #print([\"strGenre\"])\n",
    "        \n",
    "            audio_data['artist'].append(item[\"strArtist\"])\n",
    "            audio_data['style'].append(item[\"strStyle\"])\n",
    "            audio_data['genre'].append(item[\"strGenre\"])\n",
    "            \n",
    "            #audio_data['artist'].append(item[\"artists\"][\"strArtist\"])\n",
    "            #audio_data['style'].append(item[\"artists\"][\"strStyle\"])\n",
    "            #audio_data['genre'].append(item[\"artists\"][\"strGenre\"])\n",
    "        \n",
    "        #print(base_url + f'{artist}')\n",
    "        \n",
    "    except:\n",
    "        pass"
   ]
  },
  {
   "cell_type": "code",
   "execution_count": 84,
   "id": "f63c80b1",
   "metadata": {},
   "outputs": [
    {
     "name": "stdout",
     "output_type": "stream",
     "text": [
      "{'artist': ['Coldplay', 'Aerosmith', 'Neko Case', 'Radiohead'], 'style': ['Rock/Pop', 'Rock/Pop', '', 'Rock/Pop'], 'genre': ['Alternative Rock', 'Hard Rock', '', 'Alternative Rock']}\n"
     ]
    }
   ],
   "source": [
    "print(audio_data)"
   ]
  },
  {
   "cell_type": "code",
   "execution_count": 59,
   "id": "f1bb8667",
   "metadata": {},
   "outputs": [
    {
     "name": "stdout",
     "output_type": "stream",
     "text": [
      "      artist     style             genre\n",
      "0   Coldplay  Rock/Pop  Alternative Rock\n",
      "1  Aerosmith  Rock/Pop         Hard Rock\n",
      "2  Neko Case                            \n",
      "3  Radiohead  Rock/Pop  Alternative Rock\n"
     ]
    }
   ],
   "source": [
    "audio_df = pd.DataFrame(audio_data)\n",
    "print(audio_df)"
   ]
  },
  {
   "cell_type": "code",
   "execution_count": 44,
   "id": "02576464",
   "metadata": {},
   "outputs": [],
   "source": [
    "#base_url = \"http://theaudiodb.com/api/v1/json/\"+str(audio_api)+\"/search.php?s=\"\n",
    "#url = urllib3.urlopen(base_url + f'{artist}')\n",
    "#data = json.load(url)\n",
    "\n",
    "#for item in data['artists']:\n",
    "#    print(item['strArtist'])"
   ]
  },
  {
   "cell_type": "code",
   "execution_count": 45,
   "id": "51cda79c",
   "metadata": {},
   "outputs": [
    {
     "name": "stdout",
     "output_type": "stream",
     "text": [
      "http://theaudiodb.com/api/v1/json/523532/search.php?s=\n"
     ]
    }
   ],
   "source": [
    "print(base_url)"
   ]
  },
  {
   "cell_type": "code",
   "execution_count": 45,
   "id": "8b43ec5d",
   "metadata": {},
   "outputs": [],
   "source": [
    "#print(audio_api)"
   ]
  },
  {
   "cell_type": "code",
   "execution_count": null,
   "id": "491fd062",
   "metadata": {},
   "outputs": [],
   "source": [
    "# https://www.youtube.com/watch?v=pxofwuWTs7c\n",
    "# this turorital has been helpful"
   ]
  },
  {
   "cell_type": "code",
   "execution_count": null,
   "id": "3efc3df0",
   "metadata": {},
   "outputs": [],
   "source": [
    "#possible questions\n",
    "#location and genre\n",
    "#year formed and genre\n",
    "\n",
    "#pull artist, location, year formed, genre\n"
   ]
  },
  {
   "cell_type": "code",
   "execution_count": 62,
   "id": "4eb91b41",
   "metadata": {},
   "outputs": [
    {
     "ename": "NameError",
     "evalue": "name 'key' is not defined",
     "output_type": "error",
     "traceback": [
      "\u001b[1;31m---------------------------------------------------------------------------\u001b[0m",
      "\u001b[1;31mNameError\u001b[0m                                 Traceback (most recent call last)",
      "\u001b[1;32m~\\AppData\\Local\\Temp/ipykernel_11980/2961505308.py\u001b[0m in \u001b[0;36m<module>\u001b[1;34m\u001b[0m\n\u001b[0;32m      1\u001b[0m \u001b[0mcase_list\u001b[0m \u001b[1;33m=\u001b[0m \u001b[1;33m{\u001b[0m\u001b[1;33m}\u001b[0m\u001b[1;33m\u001b[0m\u001b[1;33m\u001b[0m\u001b[0m\n\u001b[0;32m      2\u001b[0m \u001b[1;32mfor\u001b[0m \u001b[0mentry\u001b[0m \u001b[1;32min\u001b[0m \u001b[0mdata\u001b[0m\u001b[1;33m:\u001b[0m\u001b[1;33m\u001b[0m\u001b[1;33m\u001b[0m\u001b[0m\n\u001b[1;32m----> 3\u001b[1;33m     \u001b[1;32mif\u001b[0m \u001b[0mkey\u001b[0m \u001b[1;32min\u001b[0m \u001b[0mcase_list\u001b[0m\u001b[1;33m:\u001b[0m\u001b[1;33m\u001b[0m\u001b[1;33m\u001b[0m\u001b[0m\n\u001b[0m\u001b[0;32m      4\u001b[0m         \u001b[0mcase_list\u001b[0m\u001b[1;33m[\u001b[0m\u001b[0mkey1\u001b[0m\u001b[1;33m]\u001b[0m\u001b[1;33m.\u001b[0m\u001b[0mappend\u001b[0m\u001b[1;33m(\u001b[0m\u001b[0mvalue\u001b[0m\u001b[1;33m)\u001b[0m\u001b[1;33m\u001b[0m\u001b[1;33m\u001b[0m\u001b[0m\n\u001b[0;32m      5\u001b[0m     \u001b[1;32melse\u001b[0m\u001b[1;33m:\u001b[0m\u001b[1;33m\u001b[0m\u001b[1;33m\u001b[0m\u001b[0m\n",
      "\u001b[1;31mNameError\u001b[0m: name 'key' is not defined"
     ]
    }
   ],
   "source": [
    "case_list = {}\n",
    "for entry in data:\n",
    "    if key in case_list:\n",
    "        case_list[key1].append(value)\n",
    "    else:\n",
    "        case_list[key1] = [value]"
   ]
  },
  {
   "cell_type": "code",
   "execution_count": 80,
   "id": "666ac3bf",
   "metadata": {},
   "outputs": [
    {
     "ename": "TypeError",
     "evalue": "dump() missing 1 required positional argument: 'fp'",
     "output_type": "error",
     "traceback": [
      "\u001b[1;31m---------------------------------------------------------------------------\u001b[0m",
      "\u001b[1;31mTypeError\u001b[0m                                 Traceback (most recent call last)",
      "\u001b[1;32m~\\AppData\\Local\\Temp/ipykernel_11980/1589922247.py\u001b[0m in \u001b[0;36m<module>\u001b[1;34m\u001b[0m\n\u001b[0;32m      3\u001b[0m \u001b[1;33m\u001b[0m\u001b[0m\n\u001b[0;32m      4\u001b[0m \u001b[1;31m# parse x:\u001b[0m\u001b[1;33m\u001b[0m\u001b[1;33m\u001b[0m\u001b[0m\n\u001b[1;32m----> 5\u001b[1;33m \u001b[0my\u001b[0m \u001b[1;33m=\u001b[0m \u001b[0mjson\u001b[0m\u001b[1;33m.\u001b[0m\u001b[0mdump\u001b[0m\u001b[1;33m(\u001b[0m\u001b[0mdata\u001b[0m\u001b[1;33m)\u001b[0m\u001b[1;33m\u001b[0m\u001b[1;33m\u001b[0m\u001b[0m\n\u001b[0m\u001b[0;32m      6\u001b[0m \u001b[1;33m\u001b[0m\u001b[0m\n\u001b[0;32m      7\u001b[0m \u001b[1;31m# the result is a Python dictionary:\u001b[0m\u001b[1;33m\u001b[0m\u001b[1;33m\u001b[0m\u001b[0m\n",
      "\u001b[1;31mTypeError\u001b[0m: dump() missing 1 required positional argument: 'fp'"
     ]
    }
   ],
   "source": [
    "# some JSON:\n",
    "x =  '{ \"name\":\"John\", \"age\":30, \"city\":\"New York\"}'\n",
    "\n",
    "# parse x:\n",
    "y = json.dump(data)\n",
    "\n",
    "# the result is a Python dictionary:\n",
    "print(y)"
   ]
  },
  {
   "cell_type": "code",
   "execution_count": 73,
   "id": "b0f4aa28",
   "metadata": {},
   "outputs": [
    {
     "name": "stdout",
     "output_type": "stream",
     "text": [
      "artists [{'idArtist': '111418', 'strArtist': 'Radiohead', 'strArtistStripped': None, 'strArtistAlternate': '', 'strLabel': 'XL Recordings', 'idLabel': '46036', 'intFormedYear': '1991', 'intBornYear': None, 'intDiedYear': None, 'strDisbanded': None, 'strStyle': 'Rock/Pop', 'strGenre': 'Alternative Rock', 'strMood': 'Sad', 'strWebsite': 'radiohead.com', 'strFacebook': 'www.facebook.com/radiohead', 'strTwitter': 'twitter.com/radiohead', 'strBiographyEN': 'Radiohead are an English rock band from Abingdon, Oxfordshire, formed in 1985. The band consists of Thom Yorke (lead vocals, guitar, piano), Jonny Greenwood (lead guitar, keyboards, other instruments), Colin Greenwood (bass), Phil Selway (drums, percussion) and Ed O\\'Brien (guitar, backing vocals).\\nRadiohead released their debut single \"Creep\" in 1992. The song was initially unsuccessful, but it became a worldwide hit several months after the release of their debut album, Pablo Honey (1993). Radiohead\\'s popularity rose in the United Kingdom with the release of their second album, The Bends (1995). Radiohead\\'s third album, OK Computer (1997), propelled them to greater international fame. Featuring an expansive sound and themes of modern alienation, OK Computer is often acclaimed as one of the landmark records of the 1990s.\\nKid A (2000) and Amnesiac (2001) marked an evolution in Radiohead\\'s musical style, as the group incorporated experimental electronic music, krautrock and jazz influences. Kid A, though somewhat polarizing at the time of its release, is now frequently recognized as one of the most important albums of the 2000s. Hail to the Thief (2003), a mix of piano and guitar driven rock, electronics and lyrics inspired by war, was the band\\'s final album for their major record label, EMI. Radiohead self-released their seventh album, In Rainbows (2007), as a digital download for which customers could set their own price, and later in physical form to critical and chart success. Radiohead\\'s eighth album, The King of Limbs (2011), was an exploration of rhythm and quieter textures, which the band released independently.\\nRadiohead have sold more than 30 million albums worldwide, with the band\\'s work being placed highly in both listener polls and critics\\' lists, they have the distinction of doing so in both the 1990s and 2000s. In 2005, Radiohead were ranked number 73 in Rolling Stone\\'s list of \"The Greatest Artists of All Time\", while Jonny Greenwood and Ed O\\'Brien were both included in Rolling Stone\\'s list of greatest guitarists, and Thom Yorke in their list of greatest singers. In 2009, Rolling Stone readers voted the group the second best artist of the 2000s.', 'strBiographyDE': 'Ob es ein Freitag war, an dem sich Thom Yorke, Ed O\\'Brien, Phil Selway, Colin Greenwood und dessen Bruder Jonny zusammenfanden, um an der Abingdon Public School in Abingdon südlich von Oxford die Band On A Friday zu gründen, spielt für den heutigen Erfolg der fünf Musiker keine Rolle mehr.\\n\\nAuf jeden Fall war es Anfang der 80er, und bis zur Umbenennung in Radiohead (ein Song auf der 1986 erschienenen Platte \"True Stories\" von David Byrnes Talking Heads) sollten noch ein paar Jahre und diverse Auftritte in der \"Jericho\\'s Tavern\" ins Land gehen.\\n\\nMusikalisch gesehen liegen die Wurzeln von On A Friday aka Radiohead in einem Brei aus Pixies, Pink Floyd, R.E.M. und U2. Als unverkennbares Markenzeichen drängen sich neben Yorks zerbrechlich-melancholischem Gesang auch die aus drei Stromgitarren dröhnenden Riffs auf, die sich immer wieder in die sich förmlich ins Ohr säuselnden Musikstücke einschleichen.\\n\\nAnfang der 90er werden dann die Grundsteine gelegt: Nach der aus einer Identitätskrise resultierenden Namensänderung (mittlerweile an der Oxford University weilend wollte man nicht länger als Schulband betrachtet werden) kam die erste EP \"Drill\" (1992). Dann die Veröffentlichung der Single \"Creep\" (ignoriert von der britischen Musikpresse und dem breiten Publikum, in den USA allerdings ein Hit), mit \"Pablo Honey\" 1993 schließlich das erste Album.\\n\\nTrotzdem sind Radiohead auf ihrem Weg zum Pop-Olymp noch nicht allzu weit vorangekommen. Erst nach einer Europa-Tour und einigen US-Auftritten als Support von Belly und Tears For Fears stürmen sie mit dem Re-Release von \"Creep\" die britischen Top 10.\\n\\nDoch Radiohead bleiben die Unkenrufe vieler Kritiker, die die Band als One Hit Wonder abstempeln, nicht erspart. Und obwohl sie diese nach der Veröffentlichung ihres Zweitlings \"The Bends\" fast durchgehend auf ihrer Seite haben, lässt der endgültige kommerzielle Durchbruch noch auf sich warten.\\n\\nAllein durch positive Plattenbesprechungen verkauft sich ein Album eben nicht, zumindest wenn man sich zur falschen Zeit am falschen Ort befindet - nämlich im Jahre 1995 in England, wo gerade der \"Battle Of The Bands\" mit der Veröffentlichung der Platten der Britpop-Ikonen Blur und Oasis tobt.\\n\\nAls Support von R.E.M. und durch perfekt inszenierte Musikvideos kommt die Band Ende des Jahres dann doch noch soweit ins Gespräch, daß \"The Bends\" in vielen Musik-Polls auf ersten Plätzen landet. Anfang 1996 wird das Album schließlich von der Plattenindustrie mit Gold-Status belohnt.\\n\\nSpätestens seit 1997, als \"OK Computer\" seinen Weg in die Regale der Plattendealer findet, schaut die Musikwelt nicht mehr auf Radiohead herab. Kurz vor dem neuen Jahrtausend sind wir schon soweit, daß hervorragenden jungen Bands wie Muse nachgesagt wird, ihren Plattenvertrag nur deshalb bekommen zu haben, weil sie \"irgendwie nach Radiohead klingen\" (O-Ton Gavin Rossdale von Bush).\\n\\n2000 erfolgt die praktische Abkehr von der real existierenden Musikwelt: \"Kid A\" kommt aus dem Presswerk, und Radiohead verstecken sich. Keine Singles, keine Videos, keine Interviews. Nur ein paar Zelt-Konzerte geben die Oxforder. \"Kid A\" gilt als das komplexeste und am schwierigsten zugängliche aller bisherigen Radiohead-Alben. Und gleichzeitig als kreativer Meilenstein der Band.\\n\\nDoch schon ein Jahr später wird mit Longplayer Nummer fünf wieder alles anders. Frontmann Yorke meint hierzu scherzhaft: \"Unser kommendes Album wird definitiv von Singles, Videos, schönen Farbfotos in Magazinen, Auftritten bei Kinder-Fernsehsendungen, Tanzeinlagen und vielen interessanten Interviews zu meiner gequälten Existenz begleitet werden.\" Das Meisterwerk \"Amnesiac\" erscheint 2001, darauf folgt mit \"Hail To The Thief\" ihre bislang vielseitigste Platte.\\n\\n2006 bringt Thom Yorke seine erste Solo-Platte mit dem Namen \"The Eraser\" heraus. Radiohead-Erfolgsproduzent Nigel Godrich hat auch diesmal seine Hände im Spiel. Das Album ist sowas wie die Essenz von \"Kid A\" und \"Amnesiac\". Die Stimme von Yorke klingt klar, die Beats sind verschachtelt und komplex. Der Radiohead-Frontmann lässt den Hörer dabei tief in seine Gedankenwelt blicken.\\n\\n2007 gibt Jonny Greenwood auf der offiziellen Radiohead-Homepage überraschend die Veröffentlichung des siebten Albums \"In Rainbows\" für den 10. Oktober bekannt. Die Platte sei als Vinyl inklusive Bonus-CD sowie als Download vorbestellbar. Revolutionärer Ansatz: Wer sich für den Download entscheidet, kann selbst bestimmen, wie viel er dafür zahlt. Letztlich erscheint \"In Rainbows\" aber auch als CD/Vinyl.\\n\\nIm August 2010 meldet sich Schlagzeuger Phil Selway nach einem kreativem Schlummer zurück und bringt mit \"Familial\" sein Solodebüt auf dem Markt. Zu diesem Zeitpunkt ist die Band aber auch wieder im Studio, um an \"The King Of Limbs\" zu arbeiten. Und wieder sperren sich Radiohead gegen die Gepflogenheiten des Geschäfts, als die Scheibe plötzlich ohne jede Promo auf den Markt kommt.\\n\\nUm Geld für Kriegsopfer zu sammeln, veröffentlichen Radiohead ihr gesamtes Musikwerk 2005 online. Als Teilnehmer der Kampagne \"All Exclusive All Good All For Charity\" bieten sie auf der Warchild-Homepage MP3s von allen Alben, Singles und Live-Aufnahmen zum Verkauf an. Die Einnahmen des Online-Vertriebs über War Child Music kommen vollständig Kindern in Kriegsregionen zugute.', 'strBiographyFR': \"Radiohead est un groupe de rock anglais originaire d'Abingdon dans l'Oxfordshire. Le groupe est composé de Thom Yorke au chant, à la guitare et au piano, de Jonny Greenwood à la guitare, piano et Ondes Martenot, de Colin Greenwood à la basse et au synthétiseur, de Ed O'Brien à la guitare et chœurs et de Phil Selway à la batterie.\\n\\nLe premier single du groupe, Creep, paraît en 1992 et leur premier album Pablo Honey suit en 1993. La popularité de Radiohead au Royaume-Uni augmente avec la sortie de leur second album intitulé The Bends en 1995. Cependant, ce n'est qu'en 1997 qu'ils acquièrent une réputation mondiale avec la sortie de OK Computer. Les sorties consécutives de Kid A en 2000 et de Amnesiac en 2001, propulsent le groupe à son apogée. La critique est cependant divisée, ce qui s'explique par de nouvelles explorations musicales dans ces deux albums. En effet, leur musique est maintenant teintée d'électronique, de post-punk et de jazz, ce qui donne une nouvelle dimension à leur musicalité. La sortie de Hail to the Thief en 2003 marque la séparation entre Radiohead et leur principal label EMI. Après deux ans de pause, le groupe retourne en studio et sort son septième album, In Rainbows, en 2007, sans aucun label. Le dernier album en date du groupe britannique, The King of Limbs, est sorti en téléchargement sur Internet le 18 février 2011, le 28 mars chez les disquaires (en version CD et vinyle) et le 9 mai dans une version complète, dénommée Newspaper. À ce jour, Radiohead a vendu près de 30 millions d'albums, toutefois ce nombre est à relativiser, étant donné que le groupe pratique une politique de téléchargements gratuits ou payants (donc non comptés dans le total des ventes) sur internet depuis plusieurs années.\", 'strBiographyCN': None, 'strBiographyIT': None, 'strBiographyJP': None, 'strBiographyRU': None, 'strBiographyES': \"Radiohead es una banda británica de rock alternativo originaria de Abingdon, Inglaterra, formada en 1985 y compuesta por Thom Yorke (voz, guitarra, piano), Jonny Greenwood (guitarras, teclado, otros instrumentos), Ed O'Brien (guitarras, segunda voz), Colin Greenwood (bajo, sintetizadores) y Phil Selway (batería, percusión).\\nRadiohead lanzó su primer sencillo, «Creep» en 1992. La canción fue inicialmente un fracaso comercial, pero se convirtió en un éxito mundial varios meses después del lanzamiento de su álbum debut, Pablo Honey (1993). La popularidad de Radiohead en el Reino Unido aumentó con el lanzamiento de su segundo álbum, The Bends (1995). El tercero, OK Computer (1997), que habla sobre la alienación y la globalización, ha sido aclamado como un disco histórico de la década de 1990.\\nKid A (2000) y Amnesiac (2001) significaron una evolución en el estilo musical del grupo, al incorporar música electrónica experimental, krautrock, e influencias de música clásica del siglo XX y jazz. Hail to the Thief (2003), una mezcla de rock, música electrónica y letras inspiradas en la guerra, fue el último álbum de la banda con el sello discográfico EMI. Los seis primeros álbumes del grupo, lanzados a través de dicha compañía, habían vendido más de 25 millones de copias hacia 2007. Radiohead lanzó de manera independiente su séptimo álbum, In Rainbows (2007). Originalmente se puso a la venta en forma de descarga digital por la que los usuarios pagaban el precio que estimasen oportuno. Su octavo álbum, The King of Limbs, se lanzó el 18 de febrero de 2011 a través de descarga digital a un precio fijo y posteriormente pudo ser adquirido en diferentes formatos.\\nEl trabajo de Radiohead ha sido reconocido por los críticos en distintas listas y sondeos musicales. En 2005 se posicionaron en el puesto número 73 en la lista de los 100 mejores artistas de todos los tiempos de la revista Rolling Stone. Fueron situados en el puesto 29 en la lista de los 100 artistas más grandes de todos los tiempos según el canal VH1 en 2010. En 2011 fueron colocados en la posición número 3 de la lista de los mejores artistas británicos de la historia según la revista Paste Magazine. Aunque los primeros álbumes de la banda fueron especialmente influyentes en el rock y la música pop británica, su trabajo posterior ha influido a otros músicos de géneros que van desde el jazz y la música clásica al hip hop, música electrónica y R&B.\", 'strBiographyPT': 'Radiohead é uma banda inglesa de rock alternativo, formada no ano de 1985 em Oxford por Thom Yorke (vocais, guitarra, piano), Jonny Greenwood (guitarra), Ed O\\'Brien (guitarra), Colin Greenwood (baixo, sintetizador) e Phil Selway (bateria, percussão).\\n\\nOs Radiohead lançaram o seu primeiro single, \"Creep\", no ano de 1992 e o seu primeiro álbum de estúdio, Pablo Honey, em 1993. Ainda que o single de \"Creep\" não tenha feito sucesso quando foi lançado, seu relançamento, no ano seguinte, fez da canção um hit internacional. A popularidade desta banda no Reino Unido aumentou com o lançamento de seu segundo álbum de estúdio, The Bends, em 1995. A textura atmosférica das guitarras e o falsete de Thom Yorke foram bastante aclamados por críticos e fãs. Com o lançamento de OK Computer em 1997, os Radiohead ganharam fama mundial. Contando com um som bastante expansivo e temas sobre a alienação moderna, OK Computer é aclamado até hoje como um marco dos anos 90. O lançamento de Kid A, em 2000, e de Amnesiac, em 2001, marcou o pico da popularidade dos Radiohead, ainda que estes dois álbuns tenham tido opiniões controversas entre críticos e fãs. Este período marcou uma considerável mudança no som dos Radiohead, com a banda incorporando elementos experimentais de música eletrônica e jazz nas suas composições. Hail to the Thief (2003), sexto álbum de estúdio da banda, mesclou todos os estilos que a banda já empregou em sua carreira, como as guitarras distorcidas, música electrônica e letras contemporâneas. Dando sequência ao lançamento de Hail to the Thief, os Radiohead entraram em hiato, saíram de sua gravadora EMI e lançaram o seu sétimo álbum, In Rainbows, em 2007, por meio de download digital, pelo qual os compradores escolhiam o quanto queriam pagar.', 'strBiographySE': 'Radiohead är ett engelskt alternativrockband från Abingdon, Oxfordshire. Bandet består av Thom Yorke (sång, rytmgitarr, piano), Jonny Greenwood (gitarr, keyboard, andra instrument), Ed O\\'Brien (gitarr, bakgrundssång), Colin Greenwood (basgitarr, synthesizers) och Phil Selway (trummor, slagverk).\\n\\nRadiohead släppte sin första singel, \"Creep\", 1992 som gjorde succé bland annat i USA efter att albumet Pablo Honey (1993) kommit ut. Radioheads popularitet ökade i England ännu mer efter nästa album, The Bends 1995. Med sitt tredje album, OK Computer (1997), befäste Radiohead sin plats bland de allra största banden på alternativscenen.\\n\\nMed de två följande albumen Kid A (2000) and Amnesiac (2001), fortsatte bandet att utveckla och förändra sin musik och började inkludera musik från bland annat elektronisk musik, krautrock, post-punk och jazz. Även om de inte fick samma goda kritik som för OK Computer, fortsatte Radioheads popularitet på samma nivå som innan. Sjätte albumet Hail to the Thief (2003), blev Radioheads sista skiva med deras skivbolag EMI, då deras kontrakt hade gått ut. Deras sjunde album, In Rainbows (2007) släpptes ursprungligen för nedladdning på deras webbsida där man kunde välja hur mycket man ville betala. Den 14 februari 2011 meddelade Radiohead via sin hemsida att deras åttonde album The King of Limbs skulle släppas i digital form den 19 februari. Albumet kallas på hemsidan för \"the worlds first* (*perhaps) Newspaper Album\".', 'strBiographyNL': None, 'strBiographyHU': None, 'strBiographyNO': None, 'strBiographyIL': None, 'strBiographyPL': None, 'strGender': 'Male', 'intMembers': '5', 'strCountry': 'Abingdon, England', 'strCountryCode': 'GB', 'strArtistThumb': 'https://www.theaudiodb.com/images/media/artist/thumb/trwwty1348250989.jpg', 'strArtistLogo': 'https://www.theaudiodb.com/images/media/artist/logo/vyxrxw1465161827.png', 'strArtistClearart': 'https://www.theaudiodb.com/images/media/artist/clearart/xqsupw1513108136.png', 'strArtistWideThumb': 'https://www.theaudiodb.com/images/media/artist/widethumb/rtyysu1517235043.jpg', 'strArtistFanart': 'https://www.theaudiodb.com/images/media/artist/fanart/wwuxrs1348251062.jpg', 'strArtistFanart2': 'https://www.theaudiodb.com/images/media/artist/fanart/tvwsrw1345637621.jpg', 'strArtistFanart3': 'https://www.theaudiodb.com/images/media/artist/fanart/ssyxsq1345637636.jpg', 'strArtistFanart4': 'https://www.theaudiodb.com/images/media/artist/fanart/6gt1ca1632489515.jpg', 'strArtistBanner': 'https://www.theaudiodb.com/images/media/artist/banner/qxpvqr1346162754.jpg', 'strMusicBrainzID': 'a74b1b7f-71a5-4011-9441-d0b5e4122711', 'strISNIcode': None, 'strLastFMChart': 'http://www.last.fm/music/Radiohead/+charts?rangetype=6month', 'intCharted': '4', 'strLocked': 'unlocked'}]\n"
     ]
    }
   ],
   "source": [
    "for key, value in data.items():\n",
    "    print(key, value)"
   ]
  },
  {
   "cell_type": "code",
   "execution_count": 81,
   "id": "a3e0ba24",
   "metadata": {},
   "outputs": [],
   "source": [
    "for item in data['artists']:\n",
    "    audio_data['artist'].append(item[\"strArtist\"])"
   ]
  },
  {
   "cell_type": "code",
   "execution_count": 82,
   "id": "329bfbb8",
   "metadata": {},
   "outputs": [
    {
     "name": "stdout",
     "output_type": "stream",
     "text": [
      "{'artist': ['Coldplay', 'Aerosmith', 'Neko Case', 'Radiohead', 'Radiohead'], 'style': ['Rock/Pop', 'Rock/Pop', '', 'Rock/Pop'], 'genre': ['Alternative Rock', 'Hard Rock', '', 'Alternative Rock']}\n"
     ]
    }
   ],
   "source": [
    "print(audio_data)"
   ]
  },
  {
   "cell_type": "code",
   "execution_count": null,
   "id": "9e20d262",
   "metadata": {},
   "outputs": [],
   "source": []
  }
 ],
 "metadata": {
  "kernelspec": {
   "display_name": "Python 3 (ipykernel)",
   "language": "python",
   "name": "python3"
  },
  "language_info": {
   "codemirror_mode": {
    "name": "ipython",
    "version": 3
   },
   "file_extension": ".py",
   "mimetype": "text/x-python",
   "name": "python",
   "nbconvert_exporter": "python",
   "pygments_lexer": "ipython3",
   "version": "3.9.7"
  }
 },
 "nbformat": 4,
 "nbformat_minor": 5
}
