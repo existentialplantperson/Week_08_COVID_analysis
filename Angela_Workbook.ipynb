{
 "cells": [
  {
   "cell_type": "code",
   "execution_count": null,
   "id": "4503c1a7",
   "metadata": {},
   "outputs": [],
   "source": [
    "# Dependencies and Setup\n",
    "import matplotlib.pyplot as plt\n",
    "import pandas as pd\n",
    "import numpy as np\n",
    "import requests\n",
    "import time\n",
    "from pprint import pprint"
   ]
  },
  {
   "cell_type": "code",
   "execution_count": null,
   "id": "25cc2bd0",
   "metadata": {},
   "outputs": [],
   "source": [
    "import json"
   ]
  },
  {
   "cell_type": "code",
   "execution_count": null,
   "id": "6a8f6042",
   "metadata": {},
   "outputs": [],
   "source": [
    "#create an empty list to populate with artist names\n",
    "\n",
    "random_nums = np.random.randint(low=100000, high=170000, size=50)\n",
    "\n",
    "#random_nums=[152689, 140338, 138577, 136662, 143824, 168060, \n",
    "#              134859, 153222, 156737, 138958, 132787, 150081]\n",
    "\n",
    "artist_names=[]"
   ]
  },
  {
   "cell_type": "code",
   "execution_count": null,
   "id": "962cb809",
   "metadata": {},
   "outputs": [],
   "source": [
    "#create a base url\n",
    "#example: https://theaudiodb.com/api/v1/json/1/artist.php?i=112024\n",
    "id_url = \"https://theaudiodb.com/api/v1/json/1/artist.php?i=\"\n",
    "\n",
    "#create a loop that uses random number\n",
    "for num in random_nums:\n",
    "    unique_url = id_url + f'{num}'\n",
    "    \n",
    "    #call api url\n",
    "    request = requests.get(unique_url)\n",
    "    \n",
    "    #for each attempt try to convert information to json\n",
    "    try:\n",
    "        #convert to json\n",
    "        info = request.json()\n",
    "    \n",
    "    #exception json decode error\n",
    "    #https://docs.python.org/3/tutorial/controlflow.html\n",
    "    except json.JSONDecodeError:\n",
    "        #end this iteration and continue new iteration of for loop\n",
    "        continue\n",
    "    \n",
    "    #if json conversion successful then\n",
    "    #try to create a variable for single artist to reference later\n",
    "    try:\n",
    "        artist = info['artists'][0]['strArtist']\n",
    "        \n",
    "    #TypeError exception if url responds with {'artists': None}\n",
    "    #https://docs.python.org/3/tutorial/errors.html\n",
    "    except (TypeError):\n",
    "        continue\n",
    "        \n",
    "    #if the artist is not already in the list then \n",
    "    if artist not in artist_names:\n",
    "        \n",
    "        #populate artist_names list using info(json)\n",
    "        #response-> {'artists': [{'idArtist': '114364', 'strArtist': 'Beyoncé', ...\n",
    "        #dictionary{'artists':['{dictionary}']}\n",
    "        artist_names.append(info['artists'][0]['strArtist'])\n",
    "    \n",
    "#print(artist_names)"
   ]
  },
  {
   "cell_type": "code",
   "execution_count": null,
   "id": "2d5f3653",
   "metadata": {},
   "outputs": [],
   "source": [
    "audio_data = {'artist_id':[],\n",
    "              'artist_name':[],\n",
    "              'gender':[],\n",
    "              'members':[],\n",
    "              'style':[], \n",
    "              'genre':[],\n",
    "             'year_formed':[],\n",
    "             'year_disbanded':[],\n",
    "             'location':[]}\n",
    "\n",
    "#for each artist in the artist list, \n",
    "for name in artist_names:\n",
    "    \n",
    "    #add the artist name to the base url\n",
    "    base_url = \"http://theaudiodb.com/api/v1/json/1/search.php?s=\"\n",
    "    req = requests.get(base_url + f'{name}')\n",
    "    \n",
    "    #convert request information into json as a variable\n",
    "    data = req.json()\n",
    "    \n",
    "    #add json values to dictionary\n",
    "    try:\n",
    "        audio_data['artist_id'].append(data['artists'][0]['idArtist'])\n",
    "        audio_data['artist_name'].append(data['artists'][0]['strArtist'])\n",
    "        audio_data['gender'].append(data['artists'][0][\"strGender\"])\n",
    "        audio_data['members'].append(data['artists'][0][\"intMembers\"])\n",
    "        audio_data['style'].append(data['artists'][0][\"strStyle\"])\n",
    "        audio_data['genre'].append(data['artists'][0][\"strGenre\"])\n",
    "        audio_data['year_formed'].append(data['artists'][0][\"intFormedYear\"])\n",
    "        audio_data['year_disbanded'].append(data['artists'][0][\"strDisbanded\"])\n",
    "        audio_data['location'].append(data['artists'][0][\"strCountry\"])\n",
    "    \n",
    "    #restart loop if TypeError found\n",
    "    except (TypeError):\n",
    "        continue"
   ]
  },
  {
   "cell_type": "code",
   "execution_count": null,
   "id": "c2811b4c",
   "metadata": {},
   "outputs": [],
   "source": [
    "audio_df = pd.DataFrame(audio_data)\n",
    "audio_df.head(3)"
   ]
  },
  {
   "cell_type": "code",
   "execution_count": null,
   "id": "bb9f9c4a",
   "metadata": {},
   "outputs": [],
   "source": [
    "# Cleaning the data: replace the 0s, None, and empty strings with null. Year disbanded: replaced None to no, meaning that they haven't disbanded\n",
    "#To only replace empty values for one column, specify the column name for the DataFrame:\n",
    "#df[\"Calories\"].fillna(130, inplace = True)\n",
    "\n",
    "audio_df['year_disbanded'].replace({2021 : 'No'}, inplace = True)\n",
    "#audio_df_nan = audio_df.replace(0, np.nan)\n",
    "audio_df['year_formed'].replace({None: 'Null', '0' : np.nan}, inplace = True) \n",
    "audio_df['gender'].replace({None: 'Null', '' : 'Null'}, inplace = True) \n",
    "audio_df['location'].replace({None: 'Null', '' : 'Null'}, inplace = True)\n",
    "audio_df['style'].replace({'' : 'Null', None : 'Null'}, inplace = True)\n",
    "\n",
    "#cols = ['year_formed',\"gender\",\"BootSize\",\"SuitSize\",\"Type\"]\n",
    "#df2[cols] = df2[cols].replace({'0':np.nan, 0:np.nan})\n",
    "audio_df.head(20)"
   ]
  },
  {
   "cell_type": "code",
   "execution_count": null,
   "id": "d64c9c90",
   "metadata": {},
   "outputs": [],
   "source": [
    "audio_df.describe()"
   ]
  },
  {
   "cell_type": "code",
   "execution_count": null,
   "id": "cd208d57",
   "metadata": {},
   "outputs": [],
   "source": [
    "#replacing and correcting location strings\n",
    "#replace strings that contain a given value with an entire string\n",
    "\n",
    "audio_df.loc[audio_df['location'].str.contains\n",
    "             ('US|American|New York|Sacramento|Colorado|Missouri|California|Florida|Indiana|Texas|Los Angeles|Arizona|Arlington', \n",
    "              na=False, case=False, regex=True), 'location'] = 'USA'\n",
    "audio_df.loc[audio_df['location'].str.contains\n",
    "             ('UK|England|English|Edinburgh|London|Scotland|Ireland|United Kingdon|Nottingham|Croydon|Liverpool', \n",
    "              na=False, case=False, regex=True), 'location'] = 'UK'\n",
    "audio_df.loc[audio_df['location'].str.contains\n",
    "             ('German|Deutsch', \n",
    "              na=False, case=False, regex=True), 'location'] = 'Germany'\n",
    "audio_df.loc[audio_df['location'].str.contains\n",
    "             ('France|French', \n",
    "              na=False, case=False, regex=True), 'location'] = 'France'\n",
    "audio_df.loc[audio_df['location'].str.contains\n",
    "             ('Belgium', \n",
    "              na=False, case=False, regex=True), 'location'] = 'Belgium'\n",
    "audio_df.loc[audio_df['location'].str.contains\n",
    "             ('Greece|Greek', \n",
    "              na=False, case=False, regex=True), 'location'] = 'Greece'\n",
    "audio_df.loc[audio_df['location'].str.contains\n",
    "             ('Switzerland|Swiss', \n",
    "              na=False, case=False, regex=True), 'location'] = 'Switzerland'\n",
    "audio_df.loc[audio_df['location'].str.contains\n",
    "             ('Canada|Canadian', \n",
    "              na=False, case=False, regex=True), 'location'] = 'Canada'\n",
    "audio_df.loc[audio_df['location'].str.contains\n",
    "             ('Melbourne|Australia', \n",
    "              na=False, case=False, regex=True), 'location'] = 'Japan'\n",
    "audio_df.loc[audio_df['location'].str.contains\n",
    "             ('Japan|Japanese', \n",
    "              na=False, case=False, regex=True), 'location'] = 'Japan'\n",
    "audio_df.loc[audio_df['location'].str.contains\n",
    "             ('Poznań|Poland', \n",
    "              na=False, case=False, regex=True), 'location'] = 'Poland'\n",
    "audio_df.loc[audio_df['location'].str.contains\n",
    "             ('Россия|Moscow', \n",
    "              na=False, case=False, regex=True), 'location'] = 'Russia'\n",
    "\n",
    "audio_df.loc[audio_df['location'].str.contains('Portugal', na=False), 'location'] = 'Portugal'\n",
    "audio_df.loc[audio_df['location'].str.contains('Swede', na=False), 'location'] = 'Sweden'\n",
    "audio_df.loc[audio_df['location'].str.contains('Odense', na=False), 'location'] = 'Denmark'\n",
    "audio_df.loc[audio_df['location'].str.contains('Zealand', na=False), 'location'] = 'New Zealand'\n",
    "audio_df.loc[audio_df['location'].str.contains('Rumania', na=False), 'location'] = 'Romania'\n",
    "\n",
    "audio_df"
   ]
  },
  {
   "cell_type": "code",
   "execution_count": null,
   "id": "59ba969c",
   "metadata": {},
   "outputs": [],
   "source": [
    "#location stats\n",
    "#number of times each location appears in the dataframe\n",
    "location_counts = audio_df['location'].value_counts()\n",
    "\n",
    "#series\n",
    "location_counts"
   ]
  },
  {
   "cell_type": "code",
   "execution_count": null,
   "id": "f4fa6ef5",
   "metadata": {},
   "outputs": [],
   "source": [
    "#proportion each location represents in the data\n",
    "location_proportion = location_counts / location_counts.sum()\n",
    "\n",
    "#series\n",
    "location_proportion"
   ]
  },
  {
   "cell_type": "code",
   "execution_count": null,
   "id": "251d3d3b",
   "metadata": {},
   "outputs": [],
   "source": [
    "#genre stats\n",
    "\n",
    "#replace empty strings in genre column with NaN \n",
    "genre_na = audio_df.replace({'genre': r''}, {'genre': np.nan}, regex=True)\n",
    "\n",
    "#count of unique genres, excluding null values\n",
    "genre_counts = genre_na['genre'].value_counts()\n",
    "\n",
    "#series\n",
    "genre_counts"
   ]
  },
  {
   "cell_type": "code",
   "execution_count": null,
   "id": "c572a721",
   "metadata": {},
   "outputs": [],
   "source": [
    "#proportion each genre represents in the data\n",
    "genre_proportion = genre_counts / genre_counts.sum()\n",
    "\n",
    "#series\n",
    "genre_proportion"
   ]
  },
  {
   "cell_type": "code",
   "execution_count": null,
   "id": "28959675",
   "metadata": {},
   "outputs": [],
   "source": [
    "#genre_na1 = audio_df.replace(to_replace=r'', value=np.nan, regex=True)\n",
    "#genre_na = audio_df.replace(regex=[r'', 'None '], value=np.nan)\n",
    "genre_na = audio_df.replace({'genre': r''}, {'genre': np.nan}, regex=True)\n",
    "#genre_na2 = genre_na.replace({'genre': 'None'}, {'genre': np.nan}, regex=True)\n",
    "genre_na2 = genre_na.replace(to_replace='None', value=np.nan, method='pad')\n",
    "genre_na2"
   ]
  },
  {
   "cell_type": "code",
   "execution_count": null,
   "id": "ce58310b",
   "metadata": {},
   "outputs": [],
   "source": [
    "#remove null values from genre data and find proportion\n",
    "genre_dropna = genre_na.dropna(axis='rows', subset = ['genre'])\n",
    "#genre_dropna_counts = genre_dropna['genre'].valuecounts()\n",
    "#genre_dropna_proportion = \n",
    "genre_dropna"
   ]
  },
  {
   "cell_type": "code",
   "execution_count": null,
   "id": "cee9c9a1",
   "metadata": {},
   "outputs": [],
   "source": [
    "\n",
    "genre_by_location = genre_grouped['location'].value_counts()\n",
    "genre_by_location"
   ]
  }
 ],
 "metadata": {
  "kernelspec": {
   "display_name": "Python 3 (ipykernel)",
   "language": "python",
   "name": "python3"
  },
  "language_info": {
   "codemirror_mode": {
    "name": "ipython",
    "version": 3
   },
   "file_extension": ".py",
   "mimetype": "text/x-python",
   "name": "python",
   "nbconvert_exporter": "python",
   "pygments_lexer": "ipython3",
   "version": "3.9.7"
  }
 },
 "nbformat": 4,
 "nbformat_minor": 5
}
