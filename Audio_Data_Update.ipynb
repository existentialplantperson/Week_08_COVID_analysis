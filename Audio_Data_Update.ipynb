{
 "cells": [
  {
   "cell_type": "markdown",
   "id": "6eeb95e0",
   "metadata": {},
   "source": [
    "# Week 8 Exploratory Data Project\n",
    "##### November 10, 2021 - Angela Spencer and Clarine Esperance"
   ]
  },
  {
   "cell_type": "markdown",
   "id": "77483f45",
   "metadata": {},
   "source": [
    "## Executive Summary\n",
    "\n",
    "For this project we used data from the http://audiodb.com which uses a JSON API and contains information on over 53,000 artists. In order to pull a managable amount of data, we created a list of randomly generated numbers within the range of available artist IDs. This list was used to loop through the database URLs and pull information on all available artist IDs in the list. From this information we created a new list with artist names corresponding to the aritst IDs. With the new list of artist IDs we were able to loop through database URLs to populate a dictionary with data, including: artist ID, artist name, gender, number of members, music style/genre, year formed, year disbanded, and location. From this dictionary we created a dataframe in order to view and analyze the information.\n",
    "\n",
    "For this particular database, values and null values were added without specific guidelines so data cleaning was necessary.  We replaced all 0 values (0, None, Null, NaN, “empty strings”) with Null and spent time replacing location strings (states, cities, and spelling variations were present) with a single country string. We then created individual variable for dataframes where all rows with null values in that column had been dropped.  We found that this method preserved more data than drop any row with a null value.\n",
    "\n",
    "In analyzing the data, we began with a list of 600+ artists and analyzed by location, genre, gender, and year formed. We found that the majority of the database contains artists from the United States and United Kingdom, representing 30% and 18% of the database, respectively.  The most common genre is Pop, representing 8% of the database. The most common gender is male, representing 73% of the database.  The range of years represented are from a minimum of 1670 to a maximum of 2020.  In analyzing the data by multiple categories, we discovered that the top genre for artists in the United States is Hip-Hop while the top genre for artists in the United Kingdom is Pop.  Looking at the top 3 genres overall (Pop, Jazz, and Rock), we see that the range of years for artists and bands forming for Pop is 1981-2016, for Jazz the range is 1885-1995, and for Rock the range is 1969-2018. \n",
    "\n",
    "These analyses are visually represented with graphs throughout the report.  Because the vast majority of our data is categorical rather than numerical, there are many pie charts and bar graphs to represent the relationships contained within the dataset."
   ]
  },
  {
   "cell_type": "code",
   "execution_count": 1,
   "id": "323ef350",
   "metadata": {},
   "outputs": [],
   "source": [
    "#Dependencies\n",
    "import matplotlib.pyplot as plt\n",
    "import seaborn as sns\n",
    "import pandas as pd\n",
    "import numpy as np\n",
    "import requests\n",
    "import time\n",
    "from pprint import pprint\n",
    "import json"
   ]
  },
  {
   "cell_type": "code",
   "execution_count": 2,
   "id": "e8f98595",
   "metadata": {},
   "outputs": [],
   "source": [
    "#modules for statistics\n",
    "import math\n",
    "import statistics\n",
    "from scipy import stats"
   ]
  },
  {
   "cell_type": "markdown",
   "id": "881d415f",
   "metadata": {},
   "source": [
    "# Generate Artists List"
   ]
  },
  {
   "cell_type": "code",
   "execution_count": 3,
   "id": "201a135b",
   "metadata": {},
   "outputs": [],
   "source": [
    "# Find a code to get all the artists from this api\n",
    "#https://www.theaudiodb.com/api_guide.php\n",
    "# theaudiodb.com/api/v1/json/1/search.php?s=coldplay\n",
    "\n",
    "#empty list to be populated with artist names\n",
    "artist_names = []"
   ]
  },
  {
   "cell_type": "code",
   "execution_count": 4,
   "id": "d1b88187",
   "metadata": {
    "scrolled": true
   },
   "outputs": [],
   "source": [
    "#generate random numbers in the range of available artist IDs\n",
    "#used to populate artist_names list\n",
    "random_nums = np.random.randint(low=100000, high=170000, size=1000)\n",
    "\n",
    "#test with known IDs and intentional errors\n",
    "#random_nums = [112024, 0, 100000, 114364]"
   ]
  },
  {
   "cell_type": "code",
   "execution_count": 5,
   "id": "f9ca71ac",
   "metadata": {
    "scrolled": true
   },
   "outputs": [],
   "source": [
    "#create a base url\n",
    "#example: https://theaudiodb.com/api/v1/json/1/artist.php?i=112024\n",
    "id_url = \"https://theaudiodb.com/api/v1/json/1/artist.php?i=\"\n",
    "\n",
    "#create a loop that uses random numbers list\n",
    "for num in random_nums:\n",
    "    unique_url = id_url + f'{num}'\n",
    "    \n",
    "    #call api url\n",
    "    request = requests.get(unique_url)\n",
    "    \n",
    "    #for each attempt try to convert information to json\n",
    "    try:\n",
    "        #convert to json\n",
    "        info = request.json()\n",
    "    \n",
    "    #exception json decode error\n",
    "    #https://docs.python.org/3/tutorial/controlflow.html\n",
    "    except json.JSONDecodeError:\n",
    "        #end this iteration and continue new iteration of for loop\n",
    "        continue\n",
    "    \n",
    "    #if json conversion successful then\n",
    "    #try to create a variable for single artist to reference later\n",
    "    try:\n",
    "        artist = info['artists'][0]['strArtist']\n",
    "        \n",
    "    #TypeError exception if url responds with {'artists': None}\n",
    "    except (TypeError):\n",
    "        continue\n",
    "        \n",
    "    #if the artist is not already in the list then \n",
    "    if artist not in artist_names:\n",
    "        \n",
    "        #populate artist_names list using info(json)\n",
    "        #response-> {'artists': [{'idArtist': '114364', 'strArtist': 'Beyoncé', ...\n",
    "        #dictionary{'artists':['{dictionary}']}\n",
    "        artist_names.append(info['artists'][0]['strArtist'])\n",
    "    \n",
    "    #print(artist_names)"
   ]
  },
  {
   "cell_type": "code",
   "execution_count": 6,
   "id": "c6e05049",
   "metadata": {},
   "outputs": [
    {
     "data": {
      "text/plain": [
       "760"
      ]
     },
     "execution_count": 6,
     "metadata": {},
     "output_type": "execute_result"
    }
   ],
   "source": [
    "len(artist_names)"
   ]
  },
  {
   "cell_type": "markdown",
   "id": "7628df10",
   "metadata": {},
   "source": [
    "# Generate Dictionary of Artist Data"
   ]
  },
  {
   "cell_type": "code",
   "execution_count": 7,
   "id": "dce2a359",
   "metadata": {},
   "outputs": [],
   "source": [
    "#create loop to pull artist information from the database\n",
    "#using populated artist_names list\n",
    "#example url: http://theaudiodb.com/api/v1/json/1/search.php?s=coldplay\n",
    "#tutorial: https://www.youtube.com/watch?v=pxofwuWTs7c\n",
    "\n",
    "#create empty dictionary to fill with values\n",
    "audio_data = {'artist_id':[],\n",
    "              'artist_name':[],\n",
    "              'gender':[],\n",
    "              'members':[],\n",
    "              'style':[], \n",
    "              'genre':[],\n",
    "             'year_formed':[],\n",
    "             'year_disbanded':[],\n",
    "             'location':[]}\n",
    "\n",
    "#for each artist in the artist list, \n",
    "for name in artist_names:\n",
    "    \n",
    "    #add the artist name to the base url\n",
    "    base_url = \"http://theaudiodb.com/api/v1/json/1/search.php?s=\"\n",
    "    req = requests.get(base_url + f'{name}')\n",
    "    \n",
    "    #convert request information into json as a variable\n",
    "    data = req.json()\n",
    "    \n",
    "    #add json values to dictionary\n",
    "    try:\n",
    "        audio_data['artist_id'].append(data['artists'][0]['idArtist'])\n",
    "        audio_data['artist_name'].append(data['artists'][0]['strArtist'])\n",
    "        audio_data['gender'].append(data['artists'][0][\"strGender\"])\n",
    "        audio_data['members'].append(data['artists'][0][\"intMembers\"])\n",
    "        audio_data['style'].append(data['artists'][0][\"strStyle\"])\n",
    "        audio_data['genre'].append(data['artists'][0][\"strGenre\"])\n",
    "        audio_data['year_formed'].append(data['artists'][0][\"intFormedYear\"])\n",
    "        audio_data['year_disbanded'].append(data['artists'][0][\"strDisbanded\"])\n",
    "        audio_data['location'].append(data['artists'][0][\"strCountry\"])\n",
    "    \n",
    "    #restart loop if TypeError found\n",
    "    except (TypeError):\n",
    "        continue"
   ]
  },
  {
   "cell_type": "markdown",
   "id": "fa573bfa",
   "metadata": {},
   "source": [
    "#### Convert Dictionary to DataFrame"
   ]
  },
  {
   "cell_type": "code",
   "execution_count": 8,
   "id": "7299daf7",
   "metadata": {},
   "outputs": [
    {
     "data": {
      "text/html": [
       "<div>\n",
       "<style scoped>\n",
       "    .dataframe tbody tr th:only-of-type {\n",
       "        vertical-align: middle;\n",
       "    }\n",
       "\n",
       "    .dataframe tbody tr th {\n",
       "        vertical-align: top;\n",
       "    }\n",
       "\n",
       "    .dataframe thead th {\n",
       "        text-align: right;\n",
       "    }\n",
       "</style>\n",
       "<table border=\"1\" class=\"dataframe\">\n",
       "  <thead>\n",
       "    <tr style=\"text-align: right;\">\n",
       "      <th></th>\n",
       "      <th>artist_id</th>\n",
       "      <th>artist_name</th>\n",
       "      <th>gender</th>\n",
       "      <th>members</th>\n",
       "      <th>style</th>\n",
       "      <th>genre</th>\n",
       "      <th>year_formed</th>\n",
       "      <th>year_disbanded</th>\n",
       "      <th>location</th>\n",
       "    </tr>\n",
       "  </thead>\n",
       "  <tbody>\n",
       "    <tr>\n",
       "      <th>0</th>\n",
       "      <td>121769</td>\n",
       "      <td>Joe Garston</td>\n",
       "      <td>Male</td>\n",
       "      <td>1</td>\n",
       "      <td>Electronic</td>\n",
       "      <td>House</td>\n",
       "      <td>2011</td>\n",
       "      <td>None</td>\n",
       "      <td>Liverpool, United Kingdom</td>\n",
       "    </tr>\n",
       "    <tr>\n",
       "      <th>1</th>\n",
       "      <td>147566</td>\n",
       "      <td>Artie Traum</td>\n",
       "      <td>None</td>\n",
       "      <td>None</td>\n",
       "      <td>None</td>\n",
       "      <td>Folk</td>\n",
       "      <td>1943</td>\n",
       "      <td>None</td>\n",
       "      <td>None</td>\n",
       "    </tr>\n",
       "    <tr>\n",
       "      <th>2</th>\n",
       "      <td>116735</td>\n",
       "      <td>Crest of Darkness</td>\n",
       "      <td>None</td>\n",
       "      <td>None</td>\n",
       "      <td>None</td>\n",
       "      <td>None</td>\n",
       "      <td>0</td>\n",
       "      <td>None</td>\n",
       "      <td>None</td>\n",
       "    </tr>\n",
       "    <tr>\n",
       "      <th>3</th>\n",
       "      <td>130174</td>\n",
       "      <td>Henny Youngman</td>\n",
       "      <td>None</td>\n",
       "      <td>None</td>\n",
       "      <td>None</td>\n",
       "      <td>None</td>\n",
       "      <td>1906</td>\n",
       "      <td>None</td>\n",
       "      <td>None</td>\n",
       "    </tr>\n",
       "    <tr>\n",
       "      <th>4</th>\n",
       "      <td>117928</td>\n",
       "      <td>Namie Amuro</td>\n",
       "      <td>Female</td>\n",
       "      <td>1</td>\n",
       "      <td>Rock/Pop</td>\n",
       "      <td>J-Pop</td>\n",
       "      <td>1977</td>\n",
       "      <td>None</td>\n",
       "      <td>Naha, Okinawa, Japan</td>\n",
       "    </tr>\n",
       "  </tbody>\n",
       "</table>\n",
       "</div>"
      ],
      "text/plain": [
       "  artist_id        artist_name  gender members       style  genre year_formed  \\\n",
       "0    121769        Joe Garston    Male       1  Electronic  House        2011   \n",
       "1    147566        Artie Traum    None    None        None   Folk        1943   \n",
       "2    116735  Crest of Darkness    None    None        None   None           0   \n",
       "3    130174     Henny Youngman    None    None        None   None        1906   \n",
       "4    117928        Namie Amuro  Female       1    Rock/Pop  J-Pop        1977   \n",
       "\n",
       "  year_disbanded                   location  \n",
       "0           None  Liverpool, United Kingdom  \n",
       "1           None                       None  \n",
       "2           None                       None  \n",
       "3           None                       None  \n",
       "4           None       Naha, Okinawa, Japan  "
      ]
     },
     "execution_count": 8,
     "metadata": {},
     "output_type": "execute_result"
    }
   ],
   "source": [
    "audio_df = pd.DataFrame(audio_data)\n",
    "audio_df.head(5)"
   ]
  },
  {
   "cell_type": "markdown",
   "id": "1b7747cb",
   "metadata": {},
   "source": [
    "# Cleaning Data"
   ]
  },
  {
   "cell_type": "markdown",
   "id": "2dce5721",
   "metadata": {},
   "source": [
    "#### Cleaning null data\n",
    "Cleaning the data to ensure that all null values are represented in the same way.  This data contains NaN, Null, None, and empty string '' --all representing missing values.  We replaced these missing values with Null with null. For year disbanded, replaced None with no, meaning that they haven't disbanded."
   ]
  },
  {
   "cell_type": "code",
   "execution_count": 9,
   "id": "977520f8",
   "metadata": {
    "scrolled": true
   },
   "outputs": [
    {
     "data": {
      "text/html": [
       "<div>\n",
       "<style scoped>\n",
       "    .dataframe tbody tr th:only-of-type {\n",
       "        vertical-align: middle;\n",
       "    }\n",
       "\n",
       "    .dataframe tbody tr th {\n",
       "        vertical-align: top;\n",
       "    }\n",
       "\n",
       "    .dataframe thead th {\n",
       "        text-align: right;\n",
       "    }\n",
       "</style>\n",
       "<table border=\"1\" class=\"dataframe\">\n",
       "  <thead>\n",
       "    <tr style=\"text-align: right;\">\n",
       "      <th></th>\n",
       "      <th>artist_id</th>\n",
       "      <th>artist_name</th>\n",
       "      <th>gender</th>\n",
       "      <th>members</th>\n",
       "      <th>style</th>\n",
       "      <th>genre</th>\n",
       "      <th>year_formed</th>\n",
       "      <th>year_disbanded</th>\n",
       "      <th>location</th>\n",
       "    </tr>\n",
       "  </thead>\n",
       "  <tbody>\n",
       "    <tr>\n",
       "      <th>0</th>\n",
       "      <td>121769</td>\n",
       "      <td>Joe Garston</td>\n",
       "      <td>Male</td>\n",
       "      <td>1</td>\n",
       "      <td>Electronic</td>\n",
       "      <td>House</td>\n",
       "      <td>2011</td>\n",
       "      <td>None</td>\n",
       "      <td>Liverpool, United Kingdom</td>\n",
       "    </tr>\n",
       "    <tr>\n",
       "      <th>1</th>\n",
       "      <td>147566</td>\n",
       "      <td>Artie Traum</td>\n",
       "      <td>Null</td>\n",
       "      <td>None</td>\n",
       "      <td>Null</td>\n",
       "      <td>Folk</td>\n",
       "      <td>1943</td>\n",
       "      <td>None</td>\n",
       "      <td>Null</td>\n",
       "    </tr>\n",
       "    <tr>\n",
       "      <th>2</th>\n",
       "      <td>116735</td>\n",
       "      <td>Crest of Darkness</td>\n",
       "      <td>Null</td>\n",
       "      <td>None</td>\n",
       "      <td>Null</td>\n",
       "      <td>None</td>\n",
       "      <td>NaN</td>\n",
       "      <td>None</td>\n",
       "      <td>Null</td>\n",
       "    </tr>\n",
       "    <tr>\n",
       "      <th>3</th>\n",
       "      <td>130174</td>\n",
       "      <td>Henny Youngman</td>\n",
       "      <td>Null</td>\n",
       "      <td>None</td>\n",
       "      <td>Null</td>\n",
       "      <td>None</td>\n",
       "      <td>1906</td>\n",
       "      <td>None</td>\n",
       "      <td>Null</td>\n",
       "    </tr>\n",
       "    <tr>\n",
       "      <th>4</th>\n",
       "      <td>117928</td>\n",
       "      <td>Namie Amuro</td>\n",
       "      <td>Female</td>\n",
       "      <td>1</td>\n",
       "      <td>Rock/Pop</td>\n",
       "      <td>J-Pop</td>\n",
       "      <td>1977</td>\n",
       "      <td>None</td>\n",
       "      <td>Naha, Okinawa, Japan</td>\n",
       "    </tr>\n",
       "    <tr>\n",
       "      <th>5</th>\n",
       "      <td>163199</td>\n",
       "      <td>Working Men’s Club</td>\n",
       "      <td>Male</td>\n",
       "      <td>4</td>\n",
       "      <td>Electronic</td>\n",
       "      <td>Indie</td>\n",
       "      <td>NaN</td>\n",
       "      <td>None</td>\n",
       "      <td>Null</td>\n",
       "    </tr>\n",
       "    <tr>\n",
       "      <th>6</th>\n",
       "      <td>139698</td>\n",
       "      <td>The Cannonball Adderley Quintet</td>\n",
       "      <td>Null</td>\n",
       "      <td>1</td>\n",
       "      <td>Null</td>\n",
       "      <td>Jazz</td>\n",
       "      <td>NaN</td>\n",
       "      <td>None</td>\n",
       "      <td>Null</td>\n",
       "    </tr>\n",
       "    <tr>\n",
       "      <th>7</th>\n",
       "      <td>143994</td>\n",
       "      <td>The Comsat Angels</td>\n",
       "      <td>Male</td>\n",
       "      <td>4</td>\n",
       "      <td>Rock/Pop</td>\n",
       "      <td>New Wave</td>\n",
       "      <td>1979</td>\n",
       "      <td>Yes</td>\n",
       "      <td>Sheffield, UK</td>\n",
       "    </tr>\n",
       "    <tr>\n",
       "      <th>8</th>\n",
       "      <td>151392</td>\n",
       "      <td>Sari Schorr</td>\n",
       "      <td>Female</td>\n",
       "      <td>1</td>\n",
       "      <td>Null</td>\n",
       "      <td>Blues</td>\n",
       "      <td>NaN</td>\n",
       "      <td>None</td>\n",
       "      <td>Null</td>\n",
       "    </tr>\n",
       "    <tr>\n",
       "      <th>9</th>\n",
       "      <td>113614</td>\n",
       "      <td>Die Ärzte</td>\n",
       "      <td>Male</td>\n",
       "      <td>3</td>\n",
       "      <td>Rock/Pop</td>\n",
       "      <td>Rock</td>\n",
       "      <td>1982</td>\n",
       "      <td>None</td>\n",
       "      <td>Berlin, Germany</td>\n",
       "    </tr>\n",
       "  </tbody>\n",
       "</table>\n",
       "</div>"
      ],
      "text/plain": [
       "  artist_id                      artist_name  gender members       style  \\\n",
       "0    121769                      Joe Garston    Male       1  Electronic   \n",
       "1    147566                      Artie Traum    Null    None        Null   \n",
       "2    116735                Crest of Darkness    Null    None        Null   \n",
       "3    130174                   Henny Youngman    Null    None        Null   \n",
       "4    117928                      Namie Amuro  Female       1    Rock/Pop   \n",
       "5    163199               Working Men’s Club    Male       4  Electronic   \n",
       "6    139698  The Cannonball Adderley Quintet    Null       1        Null   \n",
       "7    143994                The Comsat Angels    Male       4    Rock/Pop   \n",
       "8    151392                      Sari Schorr  Female       1        Null   \n",
       "9    113614                        Die Ärzte    Male       3    Rock/Pop   \n",
       "\n",
       "      genre year_formed year_disbanded                   location  \n",
       "0     House        2011           None  Liverpool, United Kingdom  \n",
       "1      Folk        1943           None                       Null  \n",
       "2      None         NaN           None                       Null  \n",
       "3      None        1906           None                       Null  \n",
       "4     J-Pop        1977           None       Naha, Okinawa, Japan  \n",
       "5     Indie         NaN           None                       Null  \n",
       "6      Jazz         NaN           None                       Null  \n",
       "7  New Wave        1979            Yes              Sheffield, UK  \n",
       "8     Blues         NaN           None                       Null  \n",
       "9      Rock        1982           None            Berlin, Germany  "
      ]
     },
     "execution_count": 9,
     "metadata": {},
     "output_type": "execute_result"
    }
   ],
   "source": [
    "#To only replace empty values for one column, specify the column name for the DataFrame:\n",
    "\n",
    "audio_df['year_disbanded'].replace({2021 : 'No'}, inplace = True)\n",
    "#audio_df_nan = audio_df.replace(0, np.nan)\n",
    "audio_df['year_formed'].replace({None: 'Null', '0' : np.nan}, inplace = True) \n",
    "audio_df['gender'].replace({None: 'Null', '' : 'Null'}, inplace = True) \n",
    "audio_df['location'].replace({None: 'Null', '' : 'Null'}, inplace = True)\n",
    "audio_df['style'].replace({'' : 'Null', None : 'Null'}, inplace = True)\n",
    "audio_df['genre'].replace({'' : 'Null'}, inplace = True)\n",
    "\n",
    "audio_df.head(10)"
   ]
  },
  {
   "cell_type": "markdown",
   "id": "c7b85e36",
   "metadata": {},
   "source": [
    "#### Cleaning Location Data\n",
    "Location data in this dataframe has no consistent format, we occasionally found states only, cities only, and variable spelling of countries.  This code replaces many possible substrings with a single string."
   ]
  },
  {
   "cell_type": "code",
   "execution_count": 10,
   "id": "5fd97b16",
   "metadata": {},
   "outputs": [],
   "source": [
    "#replacing and correcting location strings\n",
    "#replace strings that contain a given value with an entire string\n",
    "\n",
    "audio_df.loc[audio_df['location'].str.contains\n",
    "             ('US|American|New York|Sacramento|Colorado|Missouri|Chicago|Tennessee|California|Florida|Indiana|Texas|Los Angeles|Elk Grove Village|Arizona|Arlington', \n",
    "              na=False, case=False, regex=True), 'location'] = 'USA'\n",
    "audio_df.loc[audio_df['location'].str.contains\n",
    "             ('UK|England|English|Edinburgh|London|Scotland|Irish|Ireland|Manchester|United Kingdom|Nottingham|Croydon|Liverpool', \n",
    "              na=False, case=False, regex=True), 'location'] = 'UK'\n",
    "audio_df.loc[audio_df['location'].str.contains\n",
    "             ('German|Deutsch|Deutch', \n",
    "              na=False, case=False, regex=True), 'location'] = 'Germany'\n",
    "audio_df.loc[audio_df['location'].str.contains\n",
    "             ('Italia|Italy|Livorno', \n",
    "              na=False, case=False, regex=True), 'location'] = 'Italy'\n",
    "audio_df.loc[audio_df['location'].str.contains\n",
    "             ('France|French|Livorno|Paris', \n",
    "              na=False, case=False, regex=True), 'location'] = 'France'\n",
    "audio_df.loc[audio_df['location'].str.contains\n",
    "             ('Belgium', \n",
    "              na=False, case=False, regex=True), 'location'] = 'Belgium'\n",
    "audio_df.loc[audio_df['location'].str.contains\n",
    "             ('Greece|Greek', \n",
    "              na=False, case=False, regex=True), 'location'] = 'Greece'\n",
    "audio_df.loc[audio_df['location'].str.contains\n",
    "             ('Switzerland|Swiss', \n",
    "              na=False, case=False, regex=True), 'location'] = 'Switzerland'\n",
    "audio_df.loc[audio_df['location'].str.contains\n",
    "             ('Canada|Canadian|Ontario', \n",
    "              na=False, case=False, regex=True), 'location'] = 'Canada'\n",
    "audio_df.loc[audio_df['location'].str.contains\n",
    "             ('Melbourne|Australia', \n",
    "              na=False, case=False, regex=True), 'location'] = 'Japan'\n",
    "audio_df.loc[audio_df['location'].str.contains\n",
    "             ('Japan|Japanese', \n",
    "              na=False, case=False, regex=True), 'location'] = 'Japan'\n",
    "audio_df.loc[audio_df['location'].str.contains\n",
    "             ('Poznań|Poland', \n",
    "              na=False, case=False, regex=True), 'location'] = 'Poland'\n",
    "audio_df.loc[audio_df['location'].str.contains\n",
    "             ('Россия|Moscow', \n",
    "              na=False, case=False, regex=True), 'location'] = 'Russia'\n",
    "audio_df.loc[audio_df['location'].str.contains\n",
    "             ('Portugal', \n",
    "              na=False, case=False, regex=True), 'location'] = 'Portugal'\n",
    "audio_df.loc[audio_df['location'].str.contains\n",
    "             ('Swede|Gothenburg', \n",
    "              na=False, case=False, regex=True), 'location'] = 'Sweden'\n",
    "audio_df.loc[audio_df['location'].str.contains\n",
    "             ('Odense', \n",
    "              na=False, case=False, regex=True), 'location'] = 'Denmark'\n",
    "audio_df.loc[audio_df['location'].str.contains\n",
    "             ('Dutch|Netherlands', \n",
    "              na=False, case=False, regex=True), 'location'] = 'Netherlands'\n",
    "audio_df.loc[audio_df['location'].str.contains\n",
    "             ('Zealand|Wellington', \n",
    "              na=False, case=False, regex=True), 'location'] = 'New Zealand'\n",
    "audio_df.loc[audio_df['location'].str.contains\n",
    "             ('Rumania', \n",
    "              na=False, case=False, regex=True), 'location'] = 'Romania'\n",
    "audio_df.loc[audio_df['location'].str.contains\n",
    "             ('South Africa', \n",
    "              na=False, case=False, regex=True), 'location'] = 'South Africa'\n",
    "audio_df.loc[audio_df['location'].str.contains\n",
    "             ('Argentina', \n",
    "              na=False, case=False, regex=True), 'location'] = 'Argentina'\n",
    "audio_df.loc[audio_df['location'].str.contains\n",
    "             ('Mexico', \n",
    "              na=False, case=False, regex=True), 'location'] = 'Mexico'\n"
   ]
  },
  {
   "cell_type": "markdown",
   "id": "8d540024",
   "metadata": {},
   "source": [
    "#### Dropping Null Data\n",
    "We created variable to represent dataframes with the null valuse removed for a single column for further analysis"
   ]
  },
  {
   "cell_type": "code",
   "execution_count": 11,
   "id": "05bbff7a",
   "metadata": {},
   "outputs": [],
   "source": [
    "#REPLACE AND DROP NAN FOR INDIVIDUAL COLUMNS\n",
    "#assign individual variables for individual columns with null dropped\n",
    "\n",
    "#replace 'Null' with NaN for all values in location column, drop NaN\n",
    "location_na = audio_df.replace({'location': r'Null'}, {'location': np.nan}, regex=True)\n",
    "location_dropped = location_na.dropna(axis=0, subset=['location'], inplace=False)\n",
    "#location_dropped\n",
    "\n",
    "#replace 'Null' with NaN for all values in genre column, drop NaN\n",
    "genre_na = audio_df.replace({'genre': r'Null'}, {'genre': np.nan}, regex=True)\n",
    "genre_dropped = genre_na.dropna(axis=0, subset=['genre'], inplace=False)\n",
    "#genre_dropped\n",
    "\n",
    "#replace 'Null' with NaN for all values in genre column, drop NaN\n",
    "gender_na = audio_df.replace({'gender': r'Null'}, {'gender': np.nan}, regex=True)\n",
    "gender_dropped = gender_na.dropna(axis=0, subset=['gender'], inplace=False)\n",
    "#gender_dropped\n",
    "\n",
    "#replace 'Null' with NaN for all values in year_formed column, drop NaN\n",
    "year_formed_na = audio_df.replace({'year_formed': r'Null'}, {'year_formed': np.nan}, regex=True)\n",
    "year_formed_dropped = year_formed_na.dropna(axis=0, subset=['year_formed'], inplace=False)\n",
    "#year_formed_dropped"
   ]
  },
  {
   "cell_type": "markdown",
   "id": "6d009294",
   "metadata": {},
   "source": [
    "# Analysis of the Data"
   ]
  },
  {
   "cell_type": "markdown",
   "id": "68fb2d6e",
   "metadata": {},
   "source": [
    "## Location Analysis"
   ]
  },
  {
   "cell_type": "markdown",
   "id": "2a6da239",
   "metadata": {},
   "source": [
    "#### Location Count"
   ]
  },
  {
   "cell_type": "code",
   "execution_count": 12,
   "id": "1fbf4626",
   "metadata": {},
   "outputs": [
    {
     "data": {
      "text/html": [
       "<div>\n",
       "<style scoped>\n",
       "    .dataframe tbody tr th:only-of-type {\n",
       "        vertical-align: middle;\n",
       "    }\n",
       "\n",
       "    .dataframe tbody tr th {\n",
       "        vertical-align: top;\n",
       "    }\n",
       "\n",
       "    .dataframe thead th {\n",
       "        text-align: right;\n",
       "    }\n",
       "</style>\n",
       "<table border=\"1\" class=\"dataframe\">\n",
       "  <thead>\n",
       "    <tr style=\"text-align: right;\">\n",
       "      <th></th>\n",
       "      <th>Artist Location</th>\n",
       "    </tr>\n",
       "  </thead>\n",
       "  <tbody>\n",
       "    <tr>\n",
       "      <th>USA</th>\n",
       "      <td>96</td>\n",
       "    </tr>\n",
       "    <tr>\n",
       "      <th>UK</th>\n",
       "      <td>63</td>\n",
       "    </tr>\n",
       "    <tr>\n",
       "      <th>Germany</th>\n",
       "      <td>17</td>\n",
       "    </tr>\n",
       "    <tr>\n",
       "      <th>France</th>\n",
       "      <td>14</td>\n",
       "    </tr>\n",
       "    <tr>\n",
       "      <th>Canada</th>\n",
       "      <td>9</td>\n",
       "    </tr>\n",
       "    <tr>\n",
       "      <th>Italy</th>\n",
       "      <td>8</td>\n",
       "    </tr>\n",
       "    <tr>\n",
       "      <th>Sweden</th>\n",
       "      <td>5</td>\n",
       "    </tr>\n",
       "    <tr>\n",
       "      <th>Argentina</th>\n",
       "      <td>5</td>\n",
       "    </tr>\n",
       "    <tr>\n",
       "      <th>Netherlands</th>\n",
       "      <td>3</td>\n",
       "    </tr>\n",
       "    <tr>\n",
       "      <th>Denmark</th>\n",
       "      <td>3</td>\n",
       "    </tr>\n",
       "  </tbody>\n",
       "</table>\n",
       "</div>"
      ],
      "text/plain": [
       "             Artist Location\n",
       "USA                       96\n",
       "UK                        63\n",
       "Germany                   17\n",
       "France                    14\n",
       "Canada                     9\n",
       "Italy                      8\n",
       "Sweden                     5\n",
       "Argentina                  5\n",
       "Netherlands                3\n",
       "Denmark                    3"
      ]
     },
     "execution_count": 12,
     "metadata": {},
     "output_type": "execute_result"
    }
   ],
   "source": [
    "#LOCATION COUNT - NULL DROPPED\n",
    "\n",
    "#number of times each location appears in the dataframe\n",
    "location_counts_dropped = location_dropped['location'].value_counts()\n",
    "\n",
    "#series\n",
    "location_counts_dropped\n",
    "\n",
    "#create dictionary and convert to df\n",
    "location_counts_dict = {'Artist Location':location_counts_dropped}\n",
    "location_counts_df = pd.DataFrame(location_counts_dict)\n",
    "\n",
    "#top 10 artist locations\n",
    "location_top10 = location_counts_df.head(10)\n",
    "location_top10"
   ]
  },
  {
   "cell_type": "markdown",
   "id": "1ffcd580",
   "metadata": {},
   "source": [
    "#### Location Proportion"
   ]
  },
  {
   "cell_type": "code",
   "execution_count": 13,
   "id": "ab5e2552",
   "metadata": {},
   "outputs": [
    {
     "data": {
      "text/html": [
       "<div>\n",
       "<style scoped>\n",
       "    .dataframe tbody tr th:only-of-type {\n",
       "        vertical-align: middle;\n",
       "    }\n",
       "\n",
       "    .dataframe tbody tr th {\n",
       "        vertical-align: top;\n",
       "    }\n",
       "\n",
       "    .dataframe thead th {\n",
       "        text-align: right;\n",
       "    }\n",
       "</style>\n",
       "<table border=\"1\" class=\"dataframe\">\n",
       "  <thead>\n",
       "    <tr style=\"text-align: right;\">\n",
       "      <th></th>\n",
       "      <th>Artist Location Proportion</th>\n",
       "    </tr>\n",
       "  </thead>\n",
       "  <tbody>\n",
       "    <tr>\n",
       "      <th>USA</th>\n",
       "      <td>0.286</td>\n",
       "    </tr>\n",
       "    <tr>\n",
       "      <th>UK</th>\n",
       "      <td>0.188</td>\n",
       "    </tr>\n",
       "    <tr>\n",
       "      <th>Germany</th>\n",
       "      <td>0.051</td>\n",
       "    </tr>\n",
       "    <tr>\n",
       "      <th>France</th>\n",
       "      <td>0.042</td>\n",
       "    </tr>\n",
       "    <tr>\n",
       "      <th>Canada</th>\n",
       "      <td>0.027</td>\n",
       "    </tr>\n",
       "    <tr>\n",
       "      <th>Italy</th>\n",
       "      <td>0.024</td>\n",
       "    </tr>\n",
       "    <tr>\n",
       "      <th>Sweden</th>\n",
       "      <td>0.015</td>\n",
       "    </tr>\n",
       "    <tr>\n",
       "      <th>Argentina</th>\n",
       "      <td>0.015</td>\n",
       "    </tr>\n",
       "    <tr>\n",
       "      <th>Netherlands</th>\n",
       "      <td>0.009</td>\n",
       "    </tr>\n",
       "    <tr>\n",
       "      <th>Denmark</th>\n",
       "      <td>0.009</td>\n",
       "    </tr>\n",
       "  </tbody>\n",
       "</table>\n",
       "</div>"
      ],
      "text/plain": [
       "             Artist Location Proportion\n",
       "USA                               0.286\n",
       "UK                                0.188\n",
       "Germany                           0.051\n",
       "France                            0.042\n",
       "Canada                            0.027\n",
       "Italy                             0.024\n",
       "Sweden                            0.015\n",
       "Argentina                         0.015\n",
       "Netherlands                       0.009\n",
       "Denmark                           0.009"
      ]
     },
     "execution_count": 13,
     "metadata": {},
     "output_type": "execute_result"
    }
   ],
   "source": [
    "#LOCATION PROPORTION - NULL DROPPED\n",
    "\n",
    "#proportion each location represents in the data\n",
    "location_proportion_dropped = round(location_counts_dropped / location_counts_dropped.sum(), 3)\n",
    "\n",
    "#series\n",
    "location_proportion_dropped\n",
    "\n",
    "#create dictionary and convert to df\n",
    "location_proportion_dict = {'Artist Location Proportion':location_proportion_dropped}\n",
    "location_proportion_df = pd.DataFrame(location_proportion_dict)\n",
    "\n",
    "#top 10 by proportion\n",
    "location_proportion_top10 = location_proportion_df.head(10)\n",
    "location_proportion_top10"
   ]
  },
  {
   "cell_type": "code",
   "execution_count": 14,
   "id": "16070c79",
   "metadata": {},
   "outputs": [
    {
     "data": {
      "image/png": "[encoded data removed]",
      "text/plain": [
       "<Figure size 432x288 with 1 Axes>"
      ]
     },
     "metadata": {
      "needs_background": "light"
     },
     "output_type": "display_data"
    }
   ],
   "source": [
    "x = np.array([\"USA\", \"UK\", \"Germany\", \"France\", \"Canada\", \"Italy\", \"Sweden\", \"Netherlands\", \"India\", \"Paris\"])\n",
    "y = np.array([122, 37, 17, 17, 13, 8, 8, 5, 3, 3])\n",
    "\n",
    "plt.bar(x,y)\n",
    "plt.title('Top Locations for Artist')\n",
    "plt.xlabel('Countries')\n",
    "plt.ylabel('Number of Artists')\n",
    "plt.xticks(rotation='vertical')\n",
    "plt.show()"
   ]
  },
  {
   "cell_type": "code",
   "execution_count": 15,
   "id": "b5898bce",
   "metadata": {},
   "outputs": [
    {
     "data": {
      "image/png": "[encoded data removed]",
      "text/plain": [
       "<Figure size 432x288 with 1 Axes>"
      ]
     },
     "metadata": {},
     "output_type": "display_data"
    }
   ],
   "source": [
    "x = [122, 37, 17, 17, 13, 8, 8, 5, 3, 3]\n",
    "labels = [\"USA\", \"UK\", \"Germany\", \"France\", \"Canada\", \"Italy\", \"Sweden\", \"Netherlands\", \"India\", \"Paris\"]\n",
    "\n",
    "fig, ax = plt.subplots()\n",
    "ax.pie(x, labels=labels, shadow = True)\n",
    "ax.set_title('Top Location for Artist')\n",
    "plt.tight_layout()\n",
    "plt.show()"
   ]
  },
  {
   "cell_type": "markdown",
   "id": "62b7b357",
   "metadata": {},
   "source": [
    "## Genre Analysis"
   ]
  },
  {
   "cell_type": "markdown",
   "id": "c8ed06e9",
   "metadata": {},
   "source": [
    "#### Genre Mode\n",
    "\n",
    "The value that appears most frequently in the genre column is Pop."
   ]
  },
  {
   "cell_type": "code",
   "execution_count": 16,
   "id": "ca3aee74",
   "metadata": {},
   "outputs": [
    {
     "data": {
      "text/plain": [
       "'Pop'"
      ]
     },
     "execution_count": 16,
     "metadata": {},
     "output_type": "execute_result"
    }
   ],
   "source": [
    "#The mode shows the most frequently occuring value in a column\n",
    "\n",
    "statistics.mode(genre_dropped['genre'])"
   ]
  },
  {
   "cell_type": "markdown",
   "id": "b9f79110",
   "metadata": {},
   "source": [
    "#### Genre Count"
   ]
  },
  {
   "cell_type": "code",
   "execution_count": 17,
   "id": "1e64e95a",
   "metadata": {},
   "outputs": [
    {
     "data": {
      "text/html": [
       "<div>\n",
       "<style scoped>\n",
       "    .dataframe tbody tr th:only-of-type {\n",
       "        vertical-align: middle;\n",
       "    }\n",
       "\n",
       "    .dataframe tbody tr th {\n",
       "        vertical-align: top;\n",
       "    }\n",
       "\n",
       "    .dataframe thead th {\n",
       "        text-align: right;\n",
       "    }\n",
       "</style>\n",
       "<table border=\"1\" class=\"dataframe\">\n",
       "  <thead>\n",
       "    <tr style=\"text-align: right;\">\n",
       "      <th></th>\n",
       "      <th>Genre Count</th>\n",
       "    </tr>\n",
       "  </thead>\n",
       "  <tbody>\n",
       "    <tr>\n",
       "      <th>Pop</th>\n",
       "      <td>29</td>\n",
       "    </tr>\n",
       "    <tr>\n",
       "      <th>Jazz</th>\n",
       "      <td>24</td>\n",
       "    </tr>\n",
       "    <tr>\n",
       "      <th>Rock</th>\n",
       "      <td>22</td>\n",
       "    </tr>\n",
       "    <tr>\n",
       "      <th>Classical</th>\n",
       "      <td>21</td>\n",
       "    </tr>\n",
       "    <tr>\n",
       "      <th>Folk</th>\n",
       "      <td>19</td>\n",
       "    </tr>\n",
       "    <tr>\n",
       "      <th>R&amp;B</th>\n",
       "      <td>13</td>\n",
       "    </tr>\n",
       "    <tr>\n",
       "      <th>Indie</th>\n",
       "      <td>12</td>\n",
       "    </tr>\n",
       "    <tr>\n",
       "      <th>Blues</th>\n",
       "      <td>12</td>\n",
       "    </tr>\n",
       "    <tr>\n",
       "      <th>Progressive Rock</th>\n",
       "      <td>10</td>\n",
       "    </tr>\n",
       "    <tr>\n",
       "      <th>Alternative Rock</th>\n",
       "      <td>10</td>\n",
       "    </tr>\n",
       "  </tbody>\n",
       "</table>\n",
       "</div>"
      ],
      "text/plain": [
       "                  Genre Count\n",
       "Pop                        29\n",
       "Jazz                       24\n",
       "Rock                       22\n",
       "Classical                  21\n",
       "Folk                       19\n",
       "R&B                        13\n",
       "Indie                      12\n",
       "Blues                      12\n",
       "Progressive Rock           10\n",
       "Alternative Rock           10"
      ]
     },
     "execution_count": 17,
     "metadata": {},
     "output_type": "execute_result"
    }
   ],
   "source": [
    "#GENRE COUNT - NULL DROPPED\n",
    "\n",
    "#count of unique genres, excluding null values\n",
    "genre_counts_dropped = genre_dropped['genre'].value_counts()\n",
    "\n",
    "#series\n",
    "genre_counts_dropped\n",
    "\n",
    "#create dictionary and convert to df\n",
    "genre_counts_dict = {'Genre Count':genre_counts_dropped}\n",
    "genre_counts_df = pd.DataFrame(genre_counts_dict)\n",
    "\n",
    "#top 10 by proportion\n",
    "genre_counts_top10 = genre_counts_df.head(10)\n",
    "genre_counts_top10"
   ]
  },
  {
   "cell_type": "markdown",
   "id": "cc5489d2",
   "metadata": {},
   "source": [
    "#### Genre Proportion"
   ]
  },
  {
   "cell_type": "code",
   "execution_count": 18,
   "id": "572c4bbf",
   "metadata": {},
   "outputs": [
    {
     "data": {
      "text/html": [
       "<div>\n",
       "<style scoped>\n",
       "    .dataframe tbody tr th:only-of-type {\n",
       "        vertical-align: middle;\n",
       "    }\n",
       "\n",
       "    .dataframe tbody tr th {\n",
       "        vertical-align: top;\n",
       "    }\n",
       "\n",
       "    .dataframe thead th {\n",
       "        text-align: right;\n",
       "    }\n",
       "</style>\n",
       "<table border=\"1\" class=\"dataframe\">\n",
       "  <thead>\n",
       "    <tr style=\"text-align: right;\">\n",
       "      <th></th>\n",
       "      <th>Genre Proportion</th>\n",
       "    </tr>\n",
       "  </thead>\n",
       "  <tbody>\n",
       "    <tr>\n",
       "      <th>Pop</th>\n",
       "      <td>0.066</td>\n",
       "    </tr>\n",
       "    <tr>\n",
       "      <th>Jazz</th>\n",
       "      <td>0.055</td>\n",
       "    </tr>\n",
       "    <tr>\n",
       "      <th>Rock</th>\n",
       "      <td>0.050</td>\n",
       "    </tr>\n",
       "    <tr>\n",
       "      <th>Classical</th>\n",
       "      <td>0.048</td>\n",
       "    </tr>\n",
       "    <tr>\n",
       "      <th>Folk</th>\n",
       "      <td>0.043</td>\n",
       "    </tr>\n",
       "    <tr>\n",
       "      <th>R&amp;B</th>\n",
       "      <td>0.030</td>\n",
       "    </tr>\n",
       "    <tr>\n",
       "      <th>Indie</th>\n",
       "      <td>0.027</td>\n",
       "    </tr>\n",
       "    <tr>\n",
       "      <th>Blues</th>\n",
       "      <td>0.027</td>\n",
       "    </tr>\n",
       "    <tr>\n",
       "      <th>Progressive Rock</th>\n",
       "      <td>0.023</td>\n",
       "    </tr>\n",
       "    <tr>\n",
       "      <th>Alternative Rock</th>\n",
       "      <td>0.023</td>\n",
       "    </tr>\n",
       "  </tbody>\n",
       "</table>\n",
       "</div>"
      ],
      "text/plain": [
       "                  Genre Proportion\n",
       "Pop                          0.066\n",
       "Jazz                         0.055\n",
       "Rock                         0.050\n",
       "Classical                    0.048\n",
       "Folk                         0.043\n",
       "R&B                          0.030\n",
       "Indie                        0.027\n",
       "Blues                        0.027\n",
       "Progressive Rock             0.023\n",
       "Alternative Rock             0.023"
      ]
     },
     "execution_count": 18,
     "metadata": {},
     "output_type": "execute_result"
    }
   ],
   "source": [
    "#GENRE PROPORTION - NULL DROPPED\n",
    "\n",
    "#proportion each genre represents in the data\n",
    "genre_proportion_dropped = round(genre_counts_dropped / genre_counts_dropped.sum(), 3)\n",
    "\n",
    "#series\n",
    "genre_proportion_dropped\n",
    "\n",
    "#create dictionary and convert to df\n",
    "genre_proportion_dict = {'Genre Proportion':genre_proportion_dropped}\n",
    "genre_proportion_df = pd.DataFrame(genre_proportion_dict)\n",
    "\n",
    "#top 10 by proportion\n",
    "genre_proportion_top10 = genre_proportion_df.head(10)\n",
    "genre_proportion_top10"
   ]
  },
  {
   "cell_type": "code",
   "execution_count": 19,
   "id": "cd2da50b",
   "metadata": {},
   "outputs": [
    {
     "ename": "NameError",
     "evalue": "name 'myexplode' is not defined",
     "output_type": "error",
     "traceback": [
      "\u001b[1;31m---------------------------------------------------------------------------\u001b[0m",
      "\u001b[1;31mNameError\u001b[0m                                 Traceback (most recent call last)",
      "\u001b[1;32m~\\AppData\\Local\\Temp/ipykernel_16828/3145269256.py\u001b[0m in \u001b[0;36m<module>\u001b[1;34m\u001b[0m\n\u001b[0;32m      3\u001b[0m \u001b[1;33m\u001b[0m\u001b[0m\n\u001b[0;32m      4\u001b[0m \u001b[0mfig\u001b[0m\u001b[1;33m,\u001b[0m \u001b[0max\u001b[0m \u001b[1;33m=\u001b[0m \u001b[0mplt\u001b[0m\u001b[1;33m.\u001b[0m\u001b[0msubplots\u001b[0m\u001b[1;33m(\u001b[0m\u001b[1;33m)\u001b[0m\u001b[1;33m\u001b[0m\u001b[1;33m\u001b[0m\u001b[0m\n\u001b[1;32m----> 5\u001b[1;33m \u001b[0max\u001b[0m\u001b[1;33m.\u001b[0m\u001b[0mpie\u001b[0m\u001b[1;33m(\u001b[0m\u001b[0mx\u001b[0m\u001b[1;33m,\u001b[0m \u001b[0mlabels\u001b[0m\u001b[1;33m=\u001b[0m\u001b[0mlabels\u001b[0m\u001b[1;33m,\u001b[0m \u001b[0mexplode\u001b[0m \u001b[1;33m=\u001b[0m \u001b[0mmyexplode\u001b[0m\u001b[1;33m,\u001b[0m \u001b[0mshadow\u001b[0m \u001b[1;33m=\u001b[0m \u001b[1;32mTrue\u001b[0m\u001b[1;33m)\u001b[0m\u001b[1;33m\u001b[0m\u001b[1;33m\u001b[0m\u001b[0m\n\u001b[0m\u001b[0;32m      6\u001b[0m \u001b[0max\u001b[0m\u001b[1;33m.\u001b[0m\u001b[0mset_title\u001b[0m\u001b[1;33m(\u001b[0m\u001b[1;34m'Popular Genres among Artist'\u001b[0m\u001b[1;33m)\u001b[0m\u001b[1;33m\u001b[0m\u001b[1;33m\u001b[0m\u001b[0m\n\u001b[0;32m      7\u001b[0m \u001b[0mplt\u001b[0m\u001b[1;33m.\u001b[0m\u001b[0mtight_layout\u001b[0m\u001b[1;33m(\u001b[0m\u001b[1;33m)\u001b[0m\u001b[1;33m\u001b[0m\u001b[1;33m\u001b[0m\u001b[0m\n",
      "\u001b[1;31mNameError\u001b[0m: name 'myexplode' is not defined"
     ]
    },
    {
     "data": {
      "image/png": "[encoded data removed]",
      "text/plain": [
       "<Figure size 432x288 with 1 Axes>"
      ]
     },
     "metadata": {
      "needs_background": "light"
     },
     "output_type": "display_data"
    }
   ],
   "source": [
    "x = [37, 25, 21, 19, 17]\n",
    "labels = [\"Pop\", \"Jazz\", \"Hip-Hop\", \"Rock\", \"Folk\"]\n",
    "\n",
    "fig, ax = plt.subplots()\n",
    "ax.pie(x, labels=labels, explode = myexplode, shadow = True)\n",
    "ax.set_title('Popular Genres among Artist')\n",
    "plt.tight_layout()\n",
    "plt.show()"
   ]
  },
  {
   "cell_type": "code",
   "execution_count": null,
   "id": "b0cb7ade",
   "metadata": {},
   "outputs": [],
   "source": [
    "x = [\"Pop\", \"Jazz\", \"Hip-Hop\", \"Rock\", \"Folk\"]\n",
    "y = [37, 25, 21, 19, 17]\n",
    "\n",
    "plt.bar(x, y, color = \"purple\")\n",
    "plt.title('Popular Genres among Artists')\n",
    "plt.xlabel('Genre')\n",
    "plt.ylabel('Number of Artists')\n",
    "plt.show()"
   ]
  },
  {
   "cell_type": "markdown",
   "id": "0371cf69",
   "metadata": {},
   "source": [
    "## Gender \n",
    "\n",
    "Show calculations for null values included and null values removed."
   ]
  },
  {
   "cell_type": "markdown",
   "id": "b3fe476b",
   "metadata": {},
   "source": [
    "#### Gender Mode\n",
    "\n",
    "Male artists and groups are more common that female or mixed gender groups."
   ]
  },
  {
   "cell_type": "code",
   "execution_count": null,
   "id": "a5de77b1",
   "metadata": {},
   "outputs": [],
   "source": [
    "statistics.mode(gender_dropped['gender'])"
   ]
  },
  {
   "cell_type": "markdown",
   "id": "45e12782",
   "metadata": {},
   "source": [
    "#### Gender Count"
   ]
  },
  {
   "cell_type": "code",
   "execution_count": null,
   "id": "3a468d04",
   "metadata": {},
   "outputs": [],
   "source": [
    "#GENDER COUNT - NULL DROPPED\n",
    "\n",
    "#count of unique genres, excluding null values\n",
    "gender_counts_dropped = gender_dropped['gender'].value_counts()\n",
    "\n",
    "#series\n",
    "gender_counts_dropped\n",
    "\n",
    "#create dictionary and convert to df\n",
    "gender_counts_dict = {'Gender Count':gender_counts_dropped}\n",
    "gender_counts_df = pd.DataFrame(gender_counts_dict)\n",
    "gender_counts_df"
   ]
  },
  {
   "cell_type": "markdown",
   "id": "f3d8444b",
   "metadata": {},
   "source": [
    "#### Gender Proportion"
   ]
  },
  {
   "cell_type": "code",
   "execution_count": null,
   "id": "5b82f503",
   "metadata": {},
   "outputs": [],
   "source": [
    "#GENDER PROPORTION - NULL DROPPED\n",
    "\n",
    "#proportion each genre represents in the data\n",
    "gender_proportion_dropped = round(gender_counts_dropped / gender_counts_dropped.sum(), 2)\n",
    "\n",
    "#series\n",
    "gender_proportion_dropped\n",
    "\n",
    "#create dictionary and convert to df\n",
    "gender_proportion_dict = {'Gender Proportion':gender_proportion_dropped}\n",
    "gender_proportion_df = pd.DataFrame(gender_proportion_dict)\n",
    "gender_proportion_df"
   ]
  },
  {
   "cell_type": "code",
   "execution_count": null,
   "id": "d8715119",
   "metadata": {},
   "outputs": [],
   "source": [
    "category_order = ['Male', 'Female', 'Mixed']\n",
    "\n",
    "sns.countplot(x = gender_dropped['gender'], data = audio_df, order = category_order)\n",
    "plt.title('Gender of Artists/Bands')\n",
    "plt.show()"
   ]
  },
  {
   "cell_type": "code",
   "execution_count": null,
   "id": "83c2b97e",
   "metadata": {},
   "outputs": [],
   "source": [
    "x = [305, 85, 48]\n",
    "labels = ['Male', 'Female', 'Mixed']\n",
    "\n",
    "fig, ax = plt.subplots()\n",
    "ax.pie(x, labels=labels, explode = myexplode, shadow = True)\n",
    "ax.set_title('Gender of Artists/Bands')\n",
    "plt.tight_layout()\n",
    "plt.show()"
   ]
  },
  {
   "cell_type": "markdown",
   "id": "93c8a4a3",
   "metadata": {},
   "source": [
    "## Year Formed"
   ]
  },
  {
   "cell_type": "code",
   "execution_count": null,
   "id": "610bdc0e",
   "metadata": {},
   "outputs": [],
   "source": [
    "#Find the max year\n",
    "max_year_formed = year_formed_dropped['year_formed'].max()\n",
    "max_year_formed"
   ]
  },
  {
   "cell_type": "code",
   "execution_count": null,
   "id": "73e18160",
   "metadata": {},
   "outputs": [],
   "source": [
    "#Find the max year\n",
    "min_year_formed = year_formed_dropped['year_formed'].min()\n",
    "min_year_formed"
   ]
  },
  {
   "cell_type": "code",
   "execution_count": null,
   "id": "ea67f5e6",
   "metadata": {},
   "outputs": [],
   "source": [
    "#Find the number of band formed each year\n",
    "year_count = year_formed_dropped.groupby('year_formed').size()\n",
    "\n",
    "#create dictionary and convert to df\n",
    "year_count_dict = {'Year Count':year_count}\n",
    "year_count_df = pd.DataFrame(year_count_dict)\n",
    "year_count_df"
   ]
  },
  {
   "cell_type": "code",
   "execution_count": null,
   "id": "16f0ed3c",
   "metadata": {},
   "outputs": [],
   "source": [
    "#delete since it doens't tell us much\n",
    "\n",
    "n, bins, patches = plt.hist(year_count_df['Year Count'])"
   ]
  },
  {
   "cell_type": "markdown",
   "id": "1faf0e69",
   "metadata": {},
   "source": [
    "## Analysis on Multiple Columns"
   ]
  },
  {
   "cell_type": "markdown",
   "id": "e8a07640",
   "metadata": {},
   "source": [
    "#### Genres by Top 3 Locations\n",
    "\n",
    "An analysis of the genres in the top 3 countries"
   ]
  },
  {
   "cell_type": "code",
   "execution_count": null,
   "id": "56547205",
   "metadata": {
    "scrolled": true
   },
   "outputs": [],
   "source": [
    "#Genre by Location\n",
    "#GROUPBYS WITH NULL VALUES DROPPED\n",
    "\n",
    "#create new vartiables = one df with null values in 'genre' and 'location' dropped\n",
    "genre_location_na = location_na.replace({'genre': r'Null'}, {'genre': np.nan}, regex=True)\n",
    "genre_location_dropped = genre_location_na.dropna(axis=0, subset=['genre'], inplace=False)\n",
    "genre_location_na.dropna(axis=0, subset=['location'], inplace=False)\n",
    "genre_location_dropped\n",
    "\n",
    "#groupby location\n",
    "genre_location_grouped = genre_location_dropped.groupby('location')\n",
    "\n",
    "#count location by genre\n",
    "genre_by_location = genre_location_grouped['genre'].value_counts()\n",
    "\n",
    "#sort values in descending order\n",
    "genre_by_location_sorted = genre_by_location.sort_values(ascending=False)\n",
    "\n",
    "#isolate top 3 locations\n",
    "genre_by_location_top3 = genre_by_location_sorted.loc[['USA', 'UK', 'Germany']]\n",
    "\n",
    "genre_by_location_top3\n",
    "\n",
    "#create dictionary and convert to df\n",
    "genre_by_location_top3_dict = {'Genre by Location':genre_by_location_top3}\n",
    "genre_by_location_top3_df = pd.DataFrame(genre_by_location_top3_dict)\n",
    "genre_by_location_top3_df"
   ]
  },
  {
   "cell_type": "code",
   "execution_count": null,
   "id": "f115b15b",
   "metadata": {},
   "outputs": [],
   "source": [
    "#sns.catplot(x = 'Genre by Location', data = genre_by_location_top3_df);\n",
    "\n",
    "#genre_by_location_top3_df.plot(kind='bar', stacked=True)\n",
    "\n",
    "#fig, ax = plt.subplots()\n",
    "# First plot the 'USA' bars for genre.\n",
    "#ax.bar(genre_by_location_top3_df.index, genre_by_location_top3_df['USA'], label='USA')\n",
    "# Then plot the 'Female' bars on top, starting at the top of the 'Male'\n",
    "# bars.\n",
    "#ax.bar(genre_by_location_top3_df.index, genre_by_location_top3_df['UK'], bottom=genre_by_location_top3_df['USA'],\n",
    "#       label='UK')\n",
    "#ax.set_title('Genre by Location')\n",
    "#ax.legend()"
   ]
  },
  {
   "cell_type": "markdown",
   "id": "b8b602f4",
   "metadata": {},
   "source": [
    "#### Genres by Year\n",
    "\n",
    "An analysis of the year that bands formed and the genre that play in."
   ]
  },
  {
   "cell_type": "code",
   "execution_count": null,
   "id": "1dd82a85",
   "metadata": {
    "scrolled": true
   },
   "outputs": [],
   "source": [
    "#Genre by Year\n",
    "#GROUPBYS WITH NULL VALUES DROPPED\n",
    "\n",
    "#create new vartiables = one df with null values in 'genre' and 'year_formed' dropped\n",
    "genre_year_na = genre_na.replace({'year_formed': r'Null'}, {'year_formed': np.nan}, regex=True)\n",
    "genre_year_dropped = genre_year_na.dropna(axis=0, subset=['year_formed'], inplace=False)\n",
    "genre_year_dropped\n",
    "\n",
    "#groupby year formed\n",
    "year_genre_grouped = genre_year_dropped.groupby('genre')\n",
    "\n",
    "#count genre on year formed groupby\n",
    "year_by_genre = year_genre_grouped['year_formed'].value_counts()\n",
    "\n",
    "year_by_genre_top3 = year_by_genre.loc[['Pop', 'Jazz', 'Rock']]\n",
    "\n",
    "#create dictionary and convert to df\n",
    "year_by_genre_top3_dict = {'Genre by Year':year_by_genre_top3}\n",
    "year_by_genre_top3_df = pd.DataFrame(year_by_genre_top3_dict)\n",
    "genre_by_location_top3_df"
   ]
  },
  {
   "cell_type": "code",
   "execution_count": null,
   "id": "c932c148",
   "metadata": {},
   "outputs": [],
   "source": [
    "#sns.catplot(x = 'year_formed', y = 'Genre by Year', hue = 'genre', data= genre_by_location_top3_df);\n",
    "#sns.countplot(x = year_formed, y = data = audio_df)"
   ]
  },
  {
   "cell_type": "markdown",
   "id": "243423bb",
   "metadata": {},
   "source": [
    "Notes for questions and stats to run:\n",
    "1. This data is categorical and nominal (unordered)\n",
    "2. Best to use counts and bar graphs for categorical data\n",
    "3. Measure of center: Mode - used to categorical data b/c the variables don't have a numerical representation and use the function in stats module: statistics.mode\n",
    "\n",
    "Questions:\n",
    "\n",
    "Which artist released the most albums?\n",
    "Which genre has the most artists?\n",
    "Is there a relationship between genre and location?\n",
    "\n",
    "Maybe create a second dataframe with discography api. If so, more questions that could be answered? Year and genre?\n",
    "\n",
    "- Do groups or individual artist release more albums?\n",
    "- Which category do the albums fall into?"
   ]
  }
 ],
 "metadata": {
  "interpreter": {
   "hash": "aee8b7b246df8f9039afb4144a1f6fd8d2ca17a180786b69acc140d282b71a49"
  },
  "kernelspec": {
   "display_name": "Python 3 (ipykernel)",
   "language": "python",
   "name": "python3"
  },
  "language_info": {
   "codemirror_mode": {
    "name": "ipython",
    "version": 3
   },
   "file_extension": ".py",
   "mimetype": "text/x-python",
   "name": "python",
   "nbconvert_exporter": "python",
   "pygments_lexer": "ipython3",
   "version": "3.9.7"
  }
 },
 "nbformat": 4,
 "nbformat_minor": 5
}
