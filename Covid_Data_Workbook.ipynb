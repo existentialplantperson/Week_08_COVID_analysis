{
 "cells": [
  {
   "cell_type": "code",
   "execution_count": 2,
   "id": "f2828ef7",
   "metadata": {},
   "outputs": [],
   "source": [
    "import matplotlib.pyplot as plt\n",
    "import pandas as pd\n",
    "import numpy as np\n",
    "import requests\n",
    "import time\n",
    "from pprint import pprint"
   ]
  },
  {
   "cell_type": "raw",
   "id": "a7d1d795",
   "metadata": {},
   "source": [
    "ideas for analysis:\n",
    "\n",
    "first day reporting and relationship to testing\n",
    "\n",
    "total cases and relationship to testing\n",
    "\n",
    "confirmed cases and relationship to recovery"
   ]
  },
  {
   "cell_type": "code",
   "execution_count": 4,
   "id": "f293eee3",
   "metadata": {},
   "outputs": [],
   "source": [
    "# https://api.covid19api.com/countries\n",
    "# https://api.covid19api.com/dayone/country/united-states?province=delaware\n",
    "# https://documenter.getpostman.com/view/10808728/SzS8rjbc"
   ]
  },
  {
   "cell_type": "code",
   "execution_count": 22,
   "id": "bd0cf39b",
   "metadata": {},
   "outputs": [],
   "source": [
    "countries = ['united-states']\n",
    "states=['missouri', 'illinois']\n",
    "counties = ['St. Louis', 'St. Louis City']"
   ]
  },
  {
   "cell_type": "code",
   "execution_count": 23,
   "id": "99e4ed43",
   "metadata": {},
   "outputs": [
    {
     "name": "stdout",
     "output_type": "stream",
     "text": [
      "united-states\n",
      "missouri\n",
      "illinois\n"
     ]
    }
   ],
   "source": [
    "for country in countries:\n",
    "    print(country)\n",
    "    \n",
    "for state in states:\n",
    "    print(state)"
   ]
  },
  {
   "cell_type": "code",
   "execution_count": 14,
   "id": "92b3f7e8",
   "metadata": {},
   "outputs": [
    {
     "name": "stdout",
     "output_type": "stream",
     "text": [
      "https://api.covid19api.com/dayone/country/united-states?province=illinois\n"
     ]
    }
   ],
   "source": [
    "\n",
    "base_url = \"https://api.covid19api.com/dayone/country/\"\n",
    "req = requests.get(base_url+f'{country}'+'?province='+f'{state}')\n",
    "\n",
    "print(base_url+f'{country}'+'?province='+f'{state}')\n"
   ]
  },
  {
   "cell_type": "raw",
   "id": "a215728a",
   "metadata": {},
   "source": [
    "returns per state confirmed cases up to 1 week range\n",
    "https://api.covid19api.com/country/united-states/status/confirmed?from=2021-10-01T00:00:00Z&to=2021-10-06T00:00:00Z\n",
    "\n",
    "Get Live List Of Cases Per Country Per Province By Case Type After A Date\n",
    "https://api.covid19api.com/live/country/united-states/status/confirmed/date/2021-10-01T00:00:00Z\n",
    "\n",
    "https://api.covid19api.com/summary\n",
    "{\"ID\":\"48155d96-55ec-4441-a909-8cec07e03d6c\",\"Country\":\"United States of America\",\"CountryCode\":\"US\",\"Slug\":\"united-states\",\"NewConfirmed\":83783,\"TotalConfirmed\":46252795,\"NewDeaths\":1906,\"TotalDeaths\":750424,\"NewRecovered\":0,\"TotalRecovered\":0,\"Date\":\"2021-11-04T18:56:19.059Z\",\"Premium\":{}},\n",
    "\n",
    "\n",
    "data by state county:\n",
    "https://api.covid19api.com/dayone/country/united-states?province=missouri"
   ]
  },
  {
   "cell_type": "code",
   "execution_count": 26,
   "id": "74e60b44",
   "metadata": {},
   "outputs": [],
   "source": [
    "covid_data = {'county':[], \n",
    "              'cases_confirmed':[]\n",
    "             #'case_total':[],\n",
    "             #'case_one': [], \n",
    "             #'case_outcome': []\n",
    "             }\n",
    "for state in states:\n",
    "    state_url = \"https://api.covid19api.com/dayone/country/united-states?province=\"\n",
    "\n",
    "    try:\n",
    "        #q represents the city\n",
    "        req = requests.get(base_url + '{state}')\n",
    "        data = req.json()\n",
    "        \n",
    "        #add values to our city_weather dictionary\n",
    "        covid_data['county'].append(data['City'])\n",
    "        covid_data['cases_confirmed'].append(data['Confirmed'])\n",
    "\n",
    "    except:\n",
    "\n",
    "        pass"
   ]
  },
  {
   "cell_type": "code",
   "execution_count": 28,
   "id": "5d5bf48e",
   "metadata": {},
   "outputs": [],
   "source": [
    "cities=['St. Louis', 'St. Louis County']"
   ]
  },
  {
   "cell_type": "code",
   "execution_count": 31,
   "id": "cd34964e",
   "metadata": {},
   "outputs": [],
   "source": [
    "#\n",
    "covid_data = {'county':[], \n",
    "              'cases_confirmed':[]\n",
    "             #'case_total':[],\n",
    "             #'case_one': [], \n",
    "             #'case_outcome': []\n",
    "             }\n",
    "for city in cities:\n",
    "  #  state_url = \"https://api.covid19api.com/dayone/country/united-states?province=\"\n",
    "\n",
    "    try:\n",
    "        #q represents the city\n",
    "        req = requests.get(\"https://api.covid19api.com/dayone/country/united-states?province=missouri\")\n",
    "        data = req.json()\n",
    "        \n",
    "        #add values to our city_weather dictionary\n",
    "        covid_data['county'].append(data['City'])\n",
    "        covid_data['cases_confirmed'].append(data['Confirmed'])\n",
    "\n",
    "    except:\n",
    "\n",
    "        pass"
   ]
  },
  {
   "cell_type": "code",
   "execution_count": 32,
   "id": "971374ba",
   "metadata": {},
   "outputs": [
    {
     "name": "stdout",
     "output_type": "stream",
     "text": [
      "{'county': [], 'cases_confirmed': []}\n"
     ]
    }
   ],
   "source": [
    "print(covid_data)"
   ]
  },
  {
   "cell_type": "code",
   "execution_count": null,
   "id": "55975594",
   "metadata": {},
   "outputs": [],
   "source": [
    "#example from week 5 homework\n",
    "\n",
    "city_weather = {'city':[],\n",
    "               'latitude':[], \n",
    "               'longitude':[],\n",
    "               'country':[],\n",
    "               'max temp':[],\n",
    "               'pressure':[],\n",
    "               'humidity':[], \n",
    "               'wind speed':[], \n",
    "               'cloudiness':[]}\n",
    "\n",
    "#loop over cities and add data to dictionary\n",
    "for city in cities:\n",
    "    base_url = \"http://api.openweathermap.org/data/2.5/weather?units=Imperial&APPID=\" + api_key\n",
    "\n",
    "    try:\n",
    "        #q represents the city\n",
    "        req = requests.get(base_url + f'&q={city}')\n",
    "        data = req.json()\n",
    "        \n",
    "        #add values to our city_weather dictionary\n",
    "        city_weather['city'].append(data['name'])\n",
    "        city_weather['latitude'].append(data['coord']['lat'])\n",
    "        city_weather['longitude'].append(data['coord']['lon'])\n",
    "        city_weather['country'].append(data['sys']['country'])\n",
    "        city_weather['max temp'].append(data['main']['temp_max'])\n",
    "        city_weather['pressure'].append(data['main']['pressure'])\n",
    "        city_weather['humidity'].append(data['main']['humidity'])\n",
    "        city_weather['wind speed'].append(data['wind']['speed'])\n",
    "        city_weather['cloudiness'].append(data['clouds']['all'])\n",
    "        \n",
    "        print(\"Processing \" + city + \", ID# \" +['id'])\n",
    "    except:\n",
    "        print(city+ \" not found\")\n",
    "        pass"
   ]
  }
 ],
 "metadata": {
  "kernelspec": {
   "display_name": "Python 3 (ipykernel)",
   "language": "python",
   "name": "python3"
  },
  "language_info": {
   "codemirror_mode": {
    "name": "ipython",
    "version": 3
   },
   "file_extension": ".py",
   "mimetype": "text/x-python",
   "name": "python",
   "nbconvert_exporter": "python",
   "pygments_lexer": "ipython3",
   "version": "3.9.7"
  }
 },
 "nbformat": 4,
 "nbformat_minor": 5
}
