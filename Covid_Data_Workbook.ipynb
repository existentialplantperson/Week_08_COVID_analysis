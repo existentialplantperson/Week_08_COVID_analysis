{
 "cells": [
  {
   "cell_type": "code",
   "execution_count": 1,
   "id": "f2828ef7",
   "metadata": {},
   "outputs": [],
   "source": [
    "import matplotlib.pyplot as plt\n",
    "import pandas as pd\n",
    "import numpy as np\n",
    "import requests\n",
    "import time\n",
    "from pprint import pprint"
   ]
  },
  {
   "cell_type": "raw",
   "id": "1588ec9f",
   "metadata": {},
   "source": [
    "{'countriesRoute': {'Name': 'Get List Of Countries', 'Description': 'Returns all countries and associated provinces. The country_slug variable is used for country specific data', 'Path': '/countries'}, \n",
    "\n",
    "'countryDayOneRoute': {'Name': 'Get List Of Cases Per Country Per Province By Case Type From The First Recorded Case', 'Description': 'Returns all cases by case type for a country from the first recorded case. Country must be the country_slug from /countries. Cases must be one of: confirmed, recovered, deaths', 'Path': '/dayone/country/:country'}, \n",
    "\n",
    "'countryDayOneTotalRoute': {'Name': 'Get List Of Cases Per Country By Case Type From The First Recorded Case', 'Description': 'Returns all cases by case type for a country from the first recorded case. Country must be the country_slug from /countries. Cases must be one of: confirmed, recovered, deaths', 'Path': '/total/dayone/country/:country'}, \n",
    "\n",
    "'countryRoute': {'Name': 'Get List Of Cases Per Country Per Province By Case Type', 'Description': 'Returns all cases by case type for a country. Country must be the country_slug from /countries. Cases must be one of: confirmed, recovered, deaths', 'Path': '/country/:country'}, \n",
    "\n",
    "'countryRoutePremium': {'Name': 'Premium Data: Get List Of Cases Per Country By Case Type', 'Description': 'Returns all cases by case type for a country. Country must be the country_slug from /countries. Cases must be one of: confirmed, recovered, deaths', 'Path': '/premium/country/:country'}, \n",
    "\n",
    "'countryRoutePremiumData': {'Name': 'Premium Data: Get Data Per Country', 'Description': 'Returns all cases by case type for a country. Country must be the country_slug from /countries. Cases must be one of: confirmed, recovered, deaths', 'Path': '/premium/country/data/:country'}, \n",
    "\n",
    "'countryStatusDayOneLiveRoute': {'Name': 'Get List Of Cases Per Country Per Province By Case Type From The First Recorded Case, updated with latest live count', 'Description': 'Returns all cases by case type for a country from the first recorded case with the latest record being the live count. Country must be the country_slug from /countries. Cases must be one of: confirmed, recovered, deaths', 'Path': '/dayone/country/:country/status/:status/live'}, \n",
    "\n",
    "'countryStatusDayOneRoute': {'Name': 'Get List Of Cases Per Country Per Province By Case Type From The First Recorded Case', 'Description': 'Returns all cases by case type for a country from the first recorded case. Country must be the country_slug from /countries. Cases must be one of: confirmed, recovered, deaths', 'Path': '/dayone/country/:country/status/:status'}, \n",
    "\n",
    "'countryStatusDayOneTotalRoute': {'Name': 'Get List Of Cases Per Country By Case Type From The First Recorded Case', 'Description': 'Returns all cases by case type for a country from the first recorded case. Country must be the country_slug from /countries. Cases must be one of: confirmed, recovered, deaths', 'Path': '/total/dayone/country/:country/status/:status'}, \n",
    "\n",
    "'countryStatusLiveRoute': {'Name': 'Daily list of cases per Country per Province by Case Type, updated with latest live count', 'Description': 'Returns all cases by case type for a country with the latest record being the live count. Country must be the country_slug from /countries. Cases must be one of: confirmed, recovered, deaths', 'Path': '/country/:country/status/:status/live'}, \n",
    "\n",
    "'countryStatusRoute': {'Name': 'Get List Of Cases Per Country Per Province By Case Type', 'Description': 'Returns all cases by case type for a country. Country must be the country_slug from /countries. Cases must be one of: confirmed, recovered, deaths', 'Path': '/country/:country/status/:status'}, \n",
    "\n",
    "'countryStatusTotalRoute': {'Name': 'Get List Of Cases Per Country By Case Type', 'Description': 'Returns all cases by case type for a country. Country must be the country_slug from /countries. Cases must be one of: confirmed, recovered, deaths', 'Path': '/total/country/:country/status/:status'}, \n",
    "\n",
    "'countrySummaryRoutePremium': {'Name': 'Premium Data: Get Summary Of World Case Data', 'Description': 'Returns summary of all country data', 'Path': '/premium/summary'}, \n",
    "\n",
    "'countryTestingPremium': {'Name': 'Premium Data: Get Testing Data Per Country', 'Description': 'Get data around testing', 'Path': '/premium/country/testing/:country'}, \n",
    "\n",
    "'countryTotalRoute': {'Name': 'Get List Of Cases Per Country By Case Type', 'Description': 'Returns all cases by case type for a country. Country must be the country_slug from /countries. Cases must be one of: confirmed, recovered, deaths', 'Path': '/total/country/:country'}, \n",
    "\n",
    "'exportRoute': {'Name': 'Get All Data as a zip file', 'Description': 'Returns all data in the system, compressed as a zip file. Warning: this request returns 8MB+ and takes 5+ seconds', 'Path': '/export'}, \n",
    "\n",
    "'liveCountryRoute': {'Name': 'Get Live List Of Cases Per Country Per Province By Case Type', 'Description': 'Returns all live cases by case type for a country. These records are pulled every 10 minutes and are ungrouped. Country must be the country_slug from /countries. Cases must be one of: confirmed, recovered, deaths', 'Path': '/live/country/:country'}, \n",
    "\n",
    "'liveCountryStatusAfterDateRoute': {'Name': 'Get a Time Series Of Cases Per Country Per Province By Case Type After A Date', 'Description': 'Returns all live cases by case type for a country after a given date. These records are pulled every 10 minutes and are ungrouped. Country must be the country_slug from /countries. Cases must be one of: confirmed, recovered, deaths', 'Path': '/live/country/:country/status/:status/date/:date'}, \n",
    "\n",
    "'liveCountryStatusRoute': {'Name': 'Get a time series Of Cases Per Country Per Province By Case Type', 'Description': 'Returns all live cases by case type for a country. These records are pulled every 10 minutes and are ungrouped. Country must be the country_slug from /countries. Cases must be one of: confirmed, recovered, deaths', 'Path': '/live/country/:country/status/:status'}, \n",
    "\n",
    "'summaryRoute': {'Name': 'Summary of new and total cases per country', 'Description': 'A summary of new and total cases per country', 'Path': '/summary'}, \n",
    "\n",
    "'travelAdvicePremium': {'Name': 'Premium Data: Travel information for a given country', 'Description': 'Returns all cases by case type for a country. Country must be the country_slug from /countries. Cases must be one of: confirmed, recovered, deaths', 'Path': '/premium/travel/country/:country'}, \n",
    "\n",
    "'webhookRoute': {'Name': 'Add a webhook to be notified when new data becomes available', 'Description': 'POST Request must be in JSON format with key URL and the value of the webhook. Response data is the same as returned from /summary', 'Path': '/webhook'}}"
   ]
  },
  {
   "cell_type": "raw",
   "id": "a7d1d795",
   "metadata": {},
   "source": [
    "ideas for analysis:\n",
    "\n",
    "first day reporting and relationship to testing\n",
    "\n",
    "total cases and relationship to testing\n",
    "\n",
    "confirmed cases and relationship to recovery"
   ]
  },
  {
   "cell_type": "code",
   "execution_count": null,
   "id": "f293eee3",
   "metadata": {},
   "outputs": [],
   "source": [
    "https://api.covid19api.com/countries\n",
    "https://api.covid19api.com/dayone/country/united-states?province=delaware\n",
    "https://documenter.getpostman.com/view/10808728/SzS8rjbc"
   ]
  },
  {
   "cell_type": "code",
   "execution_count": 66,
   "id": "bd0cf39b",
   "metadata": {},
   "outputs": [],
   "source": [
    "countries = ['united-states']\n",
    "states=['missouri']"
   ]
  },
  {
   "cell_type": "code",
   "execution_count": 72,
   "id": "99e4ed43",
   "metadata": {},
   "outputs": [
    {
     "name": "stdout",
     "output_type": "stream",
     "text": [
      "united-states\n",
      "missouri\n"
     ]
    }
   ],
   "source": [
    "for country in countries:\n",
    "    print(country)\n",
    "    \n",
    "for state in states:\n",
    "    print(state)"
   ]
  },
  {
   "cell_type": "code",
   "execution_count": 77,
   "id": "92b3f7e8",
   "metadata": {},
   "outputs": [
    {
     "name": "stdout",
     "output_type": "stream",
     "text": [
      "https://api.covid19api.com/dayone/country/united-states?=missouri\n"
     ]
    }
   ],
   "source": [
    "\n",
    "base_url = \"https://api.covid19api.com/dayone/country/\"\n",
    "req = requests.get(base_url+f'{country}'+'?province='+f'{state}')\n",
    "\n",
    "print(base_url + f'{country}' + '?=' + f'{state}')\n",
    "\n",
    "json_data = req.json()\n",
    "#print(json_data)\n",
    "\n"
   ]
  },
  {
   "cell_type": "code",
   "execution_count": 8,
   "id": "74e60b44",
   "metadata": {},
   "outputs": [
    {
     "data": {
      "text/plain": [
       "<Response [200]>"
      ]
     },
     "execution_count": 8,
     "metadata": {},
     "output_type": "execute_result"
    }
   ],
   "source": [
    "covid_data = {'state':[], \n",
    "             'case_total':[],\n",
    "             'case_one': [], \n",
    "             'case_outcome': []\n",
    "             }\n"
   ]
  },
  {
   "cell_type": "code",
   "execution_count": null,
   "id": "55975594",
   "metadata": {},
   "outputs": [],
   "source": [
    "#population size"
   ]
  }
 ],
 "metadata": {
  "kernelspec": {
   "display_name": "Python 3 (ipykernel)",
   "language": "python",
   "name": "python3"
  },
  "language_info": {
   "codemirror_mode": {
    "name": "ipython",
    "version": 3
   },
   "file_extension": ".py",
   "mimetype": "text/x-python",
   "name": "python",
   "nbconvert_exporter": "python",
   "pygments_lexer": "ipython3",
   "version": "3.9.7"
  }
 },
 "nbformat": 4,
 "nbformat_minor": 5
}
